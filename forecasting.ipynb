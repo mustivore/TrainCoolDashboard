{
 "cells": [
  {
   "cell_type": "code",
   "execution_count": 1,
   "metadata": {},
   "outputs": [
    {
     "name": "stderr",
     "output_type": "stream",
     "text": [
      "C:\\Users\\User\\AppData\\Local\\Programs\\Python\\Python312\\Lib\\site-packages\\tqdm\\auto.py:21: TqdmWarning: IProgress not found. Please update jupyter and ipywidgets. See https://ipywidgets.readthedocs.io/en/stable/user_install.html\n",
      "  from .autonotebook import tqdm as notebook_tqdm\n"
     ]
    }
   ],
   "source": [
    "import pandas as pd\n",
    "import numpy as np\n",
    "\n",
    "from prophet import Prophet\n",
    "from prophet.serialize import model_to_json, model_from_json\n",
    "\n",
    "import plotly.express as px"
   ]
  },
  {
   "cell_type": "code",
   "execution_count": 15,
   "metadata": {},
   "outputs": [],
   "source": [
    "df = pd.read_csv(\"ar41_with_speed_cleaned.csv\",sep=\";\")\n",
    "df['timestamps_UTC'] = pd.to_datetime(df['timestamps_UTC'])"
   ]
  },
  {
   "cell_type": "code",
   "execution_count": 3,
   "metadata": {},
   "outputs": [
    {
     "data": {
      "text/plain": "       timestamps_UTC  mapped_veh_id  RS_E_InAirTemp_PC1  RS_T_OilTemp_PC1  \\\n0 2023-08-01 03:44:12          181.0                  27              76.0   \n1 2023-08-01 06:36:29          143.0                  33              73.0   \n2 2023-08-24 06:53:54          183.0                  31              85.0   \n3 2023-08-01 13:53:38          177.0                  35              78.0   \n4 2023-08-24 07:02:30          143.0                  41              82.0   \n\n   RS_E_OilPress_PC1  RS_E_RPM_PC1  RS_E_WatTemp_PC1  speed  outside_temp  \n0              255.0         794.0              83.0      3          15.4  \n1              272.0         802.0              78.0     21          16.6  \n2              234.0         799.0              82.0      2          18.7  \n3              220.0         794.0              77.0     54          19.4  \n4              227.0         806.0              85.0      2          18.7  ",
      "text/html": "<div>\n<style scoped>\n    .dataframe tbody tr th:only-of-type {\n        vertical-align: middle;\n    }\n\n    .dataframe tbody tr th {\n        vertical-align: top;\n    }\n\n    .dataframe thead th {\n        text-align: right;\n    }\n</style>\n<table border=\"1\" class=\"dataframe\">\n  <thead>\n    <tr style=\"text-align: right;\">\n      <th></th>\n      <th>timestamps_UTC</th>\n      <th>mapped_veh_id</th>\n      <th>RS_E_InAirTemp_PC1</th>\n      <th>RS_T_OilTemp_PC1</th>\n      <th>RS_E_OilPress_PC1</th>\n      <th>RS_E_RPM_PC1</th>\n      <th>RS_E_WatTemp_PC1</th>\n      <th>speed</th>\n      <th>outside_temp</th>\n    </tr>\n  </thead>\n  <tbody>\n    <tr>\n      <th>0</th>\n      <td>2023-08-01 03:44:12</td>\n      <td>181.0</td>\n      <td>27</td>\n      <td>76.0</td>\n      <td>255.0</td>\n      <td>794.0</td>\n      <td>83.0</td>\n      <td>3</td>\n      <td>15.4</td>\n    </tr>\n    <tr>\n      <th>1</th>\n      <td>2023-08-01 06:36:29</td>\n      <td>143.0</td>\n      <td>33</td>\n      <td>73.0</td>\n      <td>272.0</td>\n      <td>802.0</td>\n      <td>78.0</td>\n      <td>21</td>\n      <td>16.6</td>\n    </tr>\n    <tr>\n      <th>2</th>\n      <td>2023-08-24 06:53:54</td>\n      <td>183.0</td>\n      <td>31</td>\n      <td>85.0</td>\n      <td>234.0</td>\n      <td>799.0</td>\n      <td>82.0</td>\n      <td>2</td>\n      <td>18.7</td>\n    </tr>\n    <tr>\n      <th>3</th>\n      <td>2023-08-01 13:53:38</td>\n      <td>177.0</td>\n      <td>35</td>\n      <td>78.0</td>\n      <td>220.0</td>\n      <td>794.0</td>\n      <td>77.0</td>\n      <td>54</td>\n      <td>19.4</td>\n    </tr>\n    <tr>\n      <th>4</th>\n      <td>2023-08-24 07:02:30</td>\n      <td>143.0</td>\n      <td>41</td>\n      <td>82.0</td>\n      <td>227.0</td>\n      <td>806.0</td>\n      <td>85.0</td>\n      <td>2</td>\n      <td>18.7</td>\n    </tr>\n  </tbody>\n</table>\n</div>"
     },
     "execution_count": 3,
     "metadata": {},
     "output_type": "execute_result"
    }
   ],
   "source": [
    "dataset_adapted = df[[\"timestamps_UTC\",'mapped_veh_id','RS_E_InAirTemp_PC1',\"RS_T_OilTemp_PC1\",\"RS_E_OilPress_PC1\",\"RS_E_RPM_PC1\",\"RS_E_WatTemp_PC1\",\"speed\",\"outside_temp\"]]\n",
    "dataset_adapted.head()"
   ]
  },
  {
   "cell_type": "code",
   "execution_count": null,
   "outputs": [],
   "source": [
    "selected_column = ['RS_E_InAirTemp_PC1',\"RS_T_OilTemp_PC1\",\"RS_E_OilPress_PC1\",\"RS_E_RPM_PC1\",\"RS_E_WatTemp_PC1\"]\n",
    "anomalies_df = pd.DataFrame()\n",
    "\n",
    "for veh_id in df['mapped_veh_id'].unique():\n",
    "    print(veh_id)\n",
    "    veh_anomalies = df[df['mapped_veh_id'] == veh_id]\n",
    "    veh_anomalies = veh_anomalies.sort_values('timestamps_UTC')\n",
    "    veh_anomalies = pd.DataFrame(veh_anomalies)\n",
    "    for col in selected_column:\n",
    "        dataset_adapted = df[[\"timestamps_UTC\",'mapped_veh_id','RS_E_InAirTemp_PC1',\"RS_T_OilTemp_PC1\",\"RS_E_OilPress_PC1\",\"RS_E_RPM_PC1\",\"RS_E_WatTemp_PC1\",\"speed\",\"outside_temp\"]]\n",
    "        dataset_adapted = dataset_adapted.rename(columns={'timestamps_UTC': 'ds',col:'y'})\n",
    "        model = Prophet()\n",
    "        for col_reg in dataset_adapted.columns:\n",
    "            if col_reg != \"ds\" and col_reg != \"mapped_veh_id\" and col_reg != \"y\":\n",
    "                model.add_regressor(col_reg)\n",
    "\n",
    "        # train\n",
    "        train_veh = dataset_adapted[dataset_adapted['mapped_veh_id'] == veh_id].sort_values('ds')\n",
    "        train_veh.drop(columns='mapped_veh_id')\n",
    "        model.fit(train_veh)\n",
    "\n",
    "        # predict\n",
    "        future = model.make_future_dataframe(periods=0) # predict on the entire dataset\n",
    "        for col_reg in dataset_adapted.columns:\n",
    "            if col_reg != \"ds\" and col_reg != \"mapped_veh_id\" and col_reg != \"y\":\n",
    "                future[col_reg] = train_veh[col_reg].reset_index(drop = True)\n",
    "        forecast = model.predict(future)\n",
    "\n",
    "        forecast['y'] = train_veh['y'].reset_index(drop = True)\n",
    "        forecast['error'] = forecast['y'] - forecast['yhat']\n",
    "        forecast['uncertainity'] = forecast['yhat_upper'] - forecast['yhat_lower']\n",
    "        threshold  = 2\n",
    "        forecast['anomaly'] = forecast.apply(lambda x: 'Yes' if ( np.abs(x['error']) > threshold * x['uncertainity'] ) else 'No', axis=1)\n",
    "        veh_anomalies[f\"anomaly_{col}\"] = np.array(forecast['anomaly'])\n",
    "    anomalies_df = pd.concat([anomalies_df, veh_anomalies])\n",
    "        # fig = px.scatter(forecast.reset_index(), x='ds', y='y', color='anomaly', title='SNCB outliers')\n",
    "        # fig.update_xaxes(rangeslider_visible=True,\n",
    "        #                 rangeselector=dict(buttons=list([\n",
    "        #                     dict(count=1, label='Ja+\n",
    "    #                     nuary', step='month', stepmode='backward'),\n",
    "        #                     dict(count=2, label='February', step='month', stepmode='backward'),\n",
    "        #                     dict(count=3, label='March', step='month', stepmode='backward'),\n",
    "        #                     dict(step='all')\n",
    "        #                 ])))\n",
    "        # fig.write_html(f\"./plot/timeseries_anomalies_veh{int(veh_id)}.html\")"
   ],
   "metadata": {
    "collapsed": false
   }
  },
  {
   "cell_type": "code",
   "execution_count": 2,
   "outputs": [],
   "source": [
    "df = pd.read_csv('../anomalies.csv', sep=';')"
   ],
   "metadata": {
    "collapsed": false
   }
  },
  {
   "cell_type": "code",
   "execution_count": null,
   "outputs": [
    {
     "name": "stdout",
     "output_type": "stream",
     "text": [
      "181.0\n"
     ]
    },
    {
     "name": "stderr",
     "output_type": "stream",
     "text": [
      "07:09:20 - cmdstanpy - INFO - Chain [1] start processing\n",
      "07:11:32 - cmdstanpy - INFO - Chain [1] done processing\n",
      "07:11:59 - cmdstanpy - INFO - Chain [1] start processing\n",
      "07:13:50 - cmdstanpy - INFO - Chain [1] done processing\n",
      "07:14:16 - cmdstanpy - INFO - Chain [1] start processing\n",
      "07:16:14 - cmdstanpy - INFO - Chain [1] done processing\n",
      "07:16:42 - cmdstanpy - INFO - Chain [1] start processing\n",
      "07:18:44 - cmdstanpy - INFO - Chain [1] done processing\n",
      "07:19:11 - cmdstanpy - INFO - Chain [1] start processing\n",
      "07:20:22 - cmdstanpy - INFO - Chain [1] done processing\n"
     ]
    },
    {
     "name": "stdout",
     "output_type": "stream",
     "text": [
      "143.0\n"
     ]
    },
    {
     "name": "stderr",
     "output_type": "stream",
     "text": [
      "07:20:49 - cmdstanpy - INFO - Chain [1] start processing\n",
      "07:23:21 - cmdstanpy - INFO - Chain [1] done processing\n",
      "07:23:47 - cmdstanpy - INFO - Chain [1] start processing\n",
      "07:25:32 - cmdstanpy - INFO - Chain [1] done processing\n",
      "07:25:58 - cmdstanpy - INFO - Chain [1] start processing\n",
      "07:27:33 - cmdstanpy - INFO - Chain [1] done processing\n",
      "07:27:59 - cmdstanpy - INFO - Chain [1] start processing\n",
      "07:29:47 - cmdstanpy - INFO - Chain [1] done processing\n",
      "07:30:13 - cmdstanpy - INFO - Chain [1] start processing\n",
      "07:32:00 - cmdstanpy - INFO - Chain [1] done processing\n"
     ]
    },
    {
     "name": "stdout",
     "output_type": "stream",
     "text": [
      "183.0\n"
     ]
    },
    {
     "name": "stderr",
     "output_type": "stream",
     "text": [
      "07:32:25 - cmdstanpy - INFO - Chain [1] start processing\n",
      "07:34:39 - cmdstanpy - INFO - Chain [1] done processing\n",
      "07:35:01 - cmdstanpy - INFO - Chain [1] start processing\n",
      "07:36:23 - cmdstanpy - INFO - Chain [1] done processing\n",
      "07:36:44 - cmdstanpy - INFO - Chain [1] start processing\n",
      "07:38:36 - cmdstanpy - INFO - Chain [1] done processing\n",
      "07:38:58 - cmdstanpy - INFO - Chain [1] start processing\n",
      "07:40:40 - cmdstanpy - INFO - Chain [1] done processing\n",
      "07:41:02 - cmdstanpy - INFO - Chain [1] start processing\n",
      "07:41:36 - cmdstanpy - INFO - Chain [1] done processing\n"
     ]
    },
    {
     "name": "stdout",
     "output_type": "stream",
     "text": [
      "177.0\n"
     ]
    },
    {
     "name": "stderr",
     "output_type": "stream",
     "text": [
      "07:42:01 - cmdstanpy - INFO - Chain [1] start processing\n",
      "07:45:27 - cmdstanpy - INFO - Chain [1] done processing\n",
      "07:46:01 - cmdstanpy - INFO - Chain [1] start processing\n",
      "07:48:30 - cmdstanpy - INFO - Chain [1] done processing\n",
      "07:49:05 - cmdstanpy - INFO - Chain [1] start processing\n",
      "07:51:31 - cmdstanpy - INFO - Chain [1] done processing\n",
      "07:52:06 - cmdstanpy - INFO - Chain [1] start processing\n",
      "07:54:45 - cmdstanpy - INFO - Chain [1] done processing\n",
      "07:55:20 - cmdstanpy - INFO - Chain [1] start processing\n",
      "07:57:46 - cmdstanpy - INFO - Chain [1] done processing\n"
     ]
    },
    {
     "name": "stdout",
     "output_type": "stream",
     "text": [
      "121.0\n"
     ]
    },
    {
     "name": "stderr",
     "output_type": "stream",
     "text": [
      "07:58:15 - cmdstanpy - INFO - Chain [1] start processing\n",
      "07:58:45 - cmdstanpy - INFO - Chain [1] done processing\n",
      "07:58:54 - cmdstanpy - INFO - Chain [1] start processing\n",
      "07:59:11 - cmdstanpy - INFO - Chain [1] done processing\n",
      "07:59:21 - cmdstanpy - INFO - Chain [1] start processing\n",
      "07:59:48 - cmdstanpy - INFO - Chain [1] done processing\n",
      "07:59:58 - cmdstanpy - INFO - Chain [1] start processing\n",
      "08:00:24 - cmdstanpy - INFO - Chain [1] done processing\n",
      "08:00:34 - cmdstanpy - INFO - Chain [1] start processing\n",
      "08:00:41 - cmdstanpy - INFO - Chain [1] done processing\n"
     ]
    },
    {
     "name": "stdout",
     "output_type": "stream",
     "text": [
      "136.0\n"
     ]
    },
    {
     "name": "stderr",
     "output_type": "stream",
     "text": [
      "08:00:57 - cmdstanpy - INFO - Chain [1] start processing\n",
      "08:04:17 - cmdstanpy - INFO - Chain [1] done processing\n",
      "08:04:55 - cmdstanpy - INFO - Chain [1] start processing\n",
      "08:07:19 - cmdstanpy - INFO - Chain [1] done processing\n",
      "08:07:57 - cmdstanpy - INFO - Chain [1] start processing\n",
      "08:12:10 - cmdstanpy - INFO - Chain [1] done processing\n",
      "08:12:48 - cmdstanpy - INFO - Chain [1] start processing\n",
      "08:15:42 - cmdstanpy - INFO - Chain [1] done processing\n",
      "08:16:19 - cmdstanpy - INFO - Chain [1] start processing\n",
      "08:20:33 - cmdstanpy - INFO - Chain [1] done processing\n"
     ]
    },
    {
     "name": "stdout",
     "output_type": "stream",
     "text": [
      "172.0\n"
     ]
    },
    {
     "name": "stderr",
     "output_type": "stream",
     "text": [
      "08:21:11 - cmdstanpy - INFO - Chain [1] start processing\n",
      "08:25:24 - cmdstanpy - INFO - Chain [1] done processing\n",
      "08:26:05 - cmdstanpy - INFO - Chain [1] start processing\n",
      "08:30:49 - cmdstanpy - INFO - Chain [1] done processing\n",
      "08:31:30 - cmdstanpy - INFO - Chain [1] start processing\n",
      "08:34:43 - cmdstanpy - INFO - Chain [1] done processing\n",
      "08:35:23 - cmdstanpy - INFO - Chain [1] start processing\n",
      "08:38:18 - cmdstanpy - INFO - Chain [1] done processing\n",
      "08:38:58 - cmdstanpy - INFO - Chain [1] start processing\n",
      "08:44:17 - cmdstanpy - INFO - Chain [1] done processing\n"
     ]
    },
    {
     "name": "stdout",
     "output_type": "stream",
     "text": [
      "180.0\n"
     ]
    },
    {
     "name": "stderr",
     "output_type": "stream",
     "text": [
      "08:44:54 - cmdstanpy - INFO - Chain [1] start processing\n",
      "08:47:44 - cmdstanpy - INFO - Chain [1] done processing\n",
      "08:48:04 - cmdstanpy - INFO - Chain [1] start processing\n",
      "08:49:21 - cmdstanpy - INFO - Chain [1] done processing\n",
      "08:49:41 - cmdstanpy - INFO - Chain [1] start processing\n",
      "08:51:04 - cmdstanpy - INFO - Chain [1] done processing\n",
      "08:51:25 - cmdstanpy - INFO - Chain [1] start processing\n",
      "08:52:33 - cmdstanpy - INFO - Chain [1] done processing\n",
      "08:52:54 - cmdstanpy - INFO - Chain [1] start processing\n",
      "08:53:38 - cmdstanpy - INFO - Chain [1] done processing\n"
     ]
    },
    {
     "name": "stdout",
     "output_type": "stream",
     "text": [
      "151.0\n"
     ]
    },
    {
     "name": "stderr",
     "output_type": "stream",
     "text": [
      "08:54:00 - cmdstanpy - INFO - Chain [1] start processing\n",
      "08:56:08 - cmdstanpy - INFO - Chain [1] done processing\n",
      "08:56:37 - cmdstanpy - INFO - Chain [1] start processing\n",
      "08:59:14 - cmdstanpy - INFO - Chain [1] done processing\n",
      "08:59:43 - cmdstanpy - INFO - Chain [1] start processing\n",
      "09:01:36 - cmdstanpy - INFO - Chain [1] done processing\n",
      "09:02:04 - cmdstanpy - INFO - Chain [1] start processing\n",
      "09:03:46 - cmdstanpy - INFO - Chain [1] done processing\n",
      "09:04:14 - cmdstanpy - INFO - Chain [1] start processing\n",
      "09:05:52 - cmdstanpy - INFO - Chain [1] done processing\n"
     ]
    },
    {
     "name": "stdout",
     "output_type": "stream",
     "text": [
      "128.0\n"
     ]
    },
    {
     "name": "stderr",
     "output_type": "stream",
     "text": [
      "09:06:21 - cmdstanpy - INFO - Chain [1] start processing\n",
      "09:08:32 - cmdstanpy - INFO - Chain [1] done processing\n",
      "09:09:02 - cmdstanpy - INFO - Chain [1] start processing\n",
      "09:11:39 - cmdstanpy - INFO - Chain [1] done processing\n",
      "09:12:09 - cmdstanpy - INFO - Chain [1] start processing\n",
      "09:13:45 - cmdstanpy - INFO - Chain [1] done processing\n",
      "09:14:15 - cmdstanpy - INFO - Chain [1] start processing\n",
      "09:15:29 - cmdstanpy - INFO - Chain [1] done processing\n",
      "09:16:00 - cmdstanpy - INFO - Chain [1] start processing\n",
      "09:18:08 - cmdstanpy - INFO - Chain [1] done processing\n"
     ]
    },
    {
     "name": "stdout",
     "output_type": "stream",
     "text": [
      "182.0\n"
     ]
    },
    {
     "name": "stderr",
     "output_type": "stream",
     "text": [
      "09:18:35 - cmdstanpy - INFO - Chain [1] start processing\n",
      "09:19:48 - cmdstanpy - INFO - Chain [1] done processing\n",
      "09:20:02 - cmdstanpy - INFO - Chain [1] start processing\n",
      "09:20:48 - cmdstanpy - INFO - Chain [1] done processing\n",
      "09:21:02 - cmdstanpy - INFO - Chain [1] start processing\n",
      "09:21:54 - cmdstanpy - INFO - Chain [1] done processing\n",
      "09:22:08 - cmdstanpy - INFO - Chain [1] start processing\n",
      "09:23:02 - cmdstanpy - INFO - Chain [1] done processing\n",
      "09:23:16 - cmdstanpy - INFO - Chain [1] start processing\n",
      "09:24:09 - cmdstanpy - INFO - Chain [1] done processing\n"
     ]
    },
    {
     "name": "stdout",
     "output_type": "stream",
     "text": [
      "194.0\n"
     ]
    },
    {
     "name": "stderr",
     "output_type": "stream",
     "text": [
      "09:24:25 - cmdstanpy - INFO - Chain [1] start processing\n",
      "09:26:17 - cmdstanpy - INFO - Chain [1] done processing\n",
      "09:26:38 - cmdstanpy - INFO - Chain [1] start processing\n",
      "09:27:43 - cmdstanpy - INFO - Chain [1] done processing\n",
      "09:28:04 - cmdstanpy - INFO - Chain [1] start processing\n",
      "09:29:50 - cmdstanpy - INFO - Chain [1] done processing\n",
      "09:30:12 - cmdstanpy - INFO - Chain [1] start processing\n",
      "09:31:50 - cmdstanpy - INFO - Chain [1] done processing\n",
      "09:32:11 - cmdstanpy - INFO - Chain [1] start processing\n",
      "09:33:43 - cmdstanpy - INFO - Chain [1] done processing\n"
     ]
    },
    {
     "name": "stdout",
     "output_type": "stream",
     "text": [
      "134.0\n"
     ]
    },
    {
     "name": "stderr",
     "output_type": "stream",
     "text": [
      "09:34:04 - cmdstanpy - INFO - Chain [1] start processing\n",
      "09:35:12 - cmdstanpy - INFO - Chain [1] done processing\n",
      "09:35:29 - cmdstanpy - INFO - Chain [1] start processing\n",
      "09:36:47 - cmdstanpy - INFO - Chain [1] done processing\n",
      "09:37:05 - cmdstanpy - INFO - Chain [1] start processing\n",
      "09:38:09 - cmdstanpy - INFO - Chain [1] done processing\n",
      "09:38:27 - cmdstanpy - INFO - Chain [1] start processing\n",
      "09:39:23 - cmdstanpy - INFO - Chain [1] done processing\n",
      "09:39:41 - cmdstanpy - INFO - Chain [1] start processing\n",
      "09:41:21 - cmdstanpy - INFO - Chain [1] done processing\n"
     ]
    },
    {
     "name": "stdout",
     "output_type": "stream",
     "text": [
      "140.0\n"
     ]
    },
    {
     "name": "stderr",
     "output_type": "stream",
     "text": [
      "09:41:41 - cmdstanpy - INFO - Chain [1] start processing\n",
      "09:44:17 - cmdstanpy - INFO - Chain [1] done processing\n",
      "09:44:43 - cmdstanpy - INFO - Chain [1] start processing\n",
      "09:48:26 - cmdstanpy - INFO - Chain [1] done processing\n",
      "09:48:53 - cmdstanpy - INFO - Chain [1] start processing\n",
      "09:50:56 - cmdstanpy - INFO - Chain [1] done processing\n",
      "09:51:23 - cmdstanpy - INFO - Chain [1] start processing\n",
      "09:52:36 - cmdstanpy - INFO - Chain [1] done processing\n",
      "09:53:03 - cmdstanpy - INFO - Chain [1] start processing\n",
      "09:56:58 - cmdstanpy - INFO - Chain [1] done processing\n"
     ]
    },
    {
     "name": "stdout",
     "output_type": "stream",
     "text": [
      "161.0\n"
     ]
    },
    {
     "name": "stderr",
     "output_type": "stream",
     "text": [
      "09:57:22 - cmdstanpy - INFO - Chain [1] start processing\n",
      "09:58:08 - cmdstanpy - INFO - Chain [1] done processing\n",
      "09:58:19 - cmdstanpy - INFO - Chain [1] start processing\n",
      "09:58:42 - cmdstanpy - INFO - Chain [1] done processing\n",
      "09:58:54 - cmdstanpy - INFO - Chain [1] start processing\n",
      "10:00:17 - cmdstanpy - INFO - Chain [1] done processing\n",
      "10:00:28 - cmdstanpy - INFO - Chain [1] start processing\n",
      "10:01:36 - cmdstanpy - INFO - Chain [1] done processing\n",
      "10:01:47 - cmdstanpy - INFO - Chain [1] start processing\n",
      "10:02:06 - cmdstanpy - INFO - Chain [1] done processing\n"
     ]
    },
    {
     "name": "stdout",
     "output_type": "stream",
     "text": [
      "142.0\n"
     ]
    },
    {
     "name": "stderr",
     "output_type": "stream",
     "text": [
      "10:02:22 - cmdstanpy - INFO - Chain [1] start processing\n",
      "10:04:16 - cmdstanpy - INFO - Chain [1] done processing\n",
      "10:04:46 - cmdstanpy - INFO - Chain [1] start processing\n",
      "10:07:31 - cmdstanpy - INFO - Chain [1] done processing\n",
      "10:08:02 - cmdstanpy - INFO - Chain [1] start processing\n"
     ]
    }
   ],
   "source": [
    "selected_column = ['RS_E_InAirTemp_PC2',\"RS_T_OilTemp_PC2\",\"RS_E_OilPress_PC2\",\"RS_E_RPM_PC2\",\"RS_E_WatTemp_PC2\"]\n",
    "anomalies_df = pd.DataFrame()\n",
    "\n",
    "for veh_id in df['mapped_veh_id'].unique():\n",
    "    print(veh_id)\n",
    "    veh_anomalies = df[df['mapped_veh_id'] == veh_id]\n",
    "    veh_anomalies = veh_anomalies.sort_values('timestamps_UTC')\n",
    "    veh_anomalies = pd.DataFrame(veh_anomalies)\n",
    "    for col in selected_column:\n",
    "        dataset_adapted = df[[\"timestamps_UTC\",'mapped_veh_id','RS_E_InAirTemp_PC2',\"RS_T_OilTemp_PC2\",\"RS_E_OilPress_PC2\",\"RS_E_RPM_PC2\",\"RS_E_WatTemp_PC2\",\"speed\",\"outside_temp\"]]\n",
    "        dataset_adapted = dataset_adapted.rename(columns={'timestamps_UTC': 'ds',col:'y'})\n",
    "        model = Prophet()\n",
    "        for col_reg in dataset_adapted.columns:\n",
    "            if col_reg != \"ds\" and col_reg != \"mapped_veh_id\" and col_reg != \"y\":\n",
    "                model.add_regressor(col_reg)\n",
    "\n",
    "        # train\n",
    "        train_veh = dataset_adapted[dataset_adapted['mapped_veh_id'] == veh_id].sort_values('ds')\n",
    "        train_veh.drop(columns='mapped_veh_id')\n",
    "        model.fit(train_veh)\n",
    "\n",
    "        # predict\n",
    "        future = model.make_future_dataframe(periods=0) # predict on the entire dataset\n",
    "        for col_reg in dataset_adapted.columns:\n",
    "            if col_reg != \"ds\" and col_reg != \"mapped_veh_id\" and col_reg != \"y\":\n",
    "                future[col_reg] = train_veh[col_reg].reset_index(drop = True)\n",
    "\n",
    "        forecast = model.predict(future)\n",
    "        forecast['y'] = train_veh['y'].reset_index(drop = True)\n",
    "        forecast['error'] = forecast['y'] - forecast['yhat']\n",
    "        forecast['uncertainity'] = forecast['yhat_upper'] - forecast['yhat_lower']\n",
    "        threshold  = 2\n",
    "        forecast['anomaly'] = forecast.apply(lambda x: 'Yes' if ( np.abs(x['error']) > threshold * x['uncertainity'] ) else 'No', axis=1)\n",
    "        veh_anomalies[f\"anomaly_{col}\"] = np.array(forecast['anomaly'])\n",
    "\n",
    "\n",
    "    anomalies_df = pd.concat([anomalies_df, veh_anomalies])\n"
   ],
   "metadata": {
    "collapsed": false,
    "pycharm": {
     "is_executing": true
    }
   }
  },
  {
   "cell_type": "code",
   "execution_count": null,
   "outputs": [],
   "source": [
    "anomalies_df"
   ],
   "metadata": {
    "collapsed": false,
    "pycharm": {
     "is_executing": true
    }
   }
  },
  {
   "cell_type": "code",
   "execution_count": null,
   "outputs": [],
   "source": [
    "anomalies_df = anomalies_df.drop(columns='Unnamed: 0')"
   ],
   "metadata": {
    "collapsed": false,
    "pycharm": {
     "is_executing": true
    }
   }
  },
  {
   "cell_type": "code",
   "execution_count": null,
   "outputs": [],
   "source": [
    "anomalies_df.to_csv('anomalies.csv',sep=';')"
   ],
   "metadata": {
    "collapsed": false,
    "pycharm": {
     "is_executing": true
    }
   }
  },
  {
   "cell_type": "code",
   "execution_count": 2,
   "outputs": [],
   "source": [
    "anomalies_df = pd.read_csv('anomalies.csv', sep=';')"
   ],
   "metadata": {
    "collapsed": false
   }
  },
  {
   "cell_type": "code",
   "execution_count": 5,
   "outputs": [
    {
     "data": {
      "text/plain": "16867540"
     },
     "execution_count": 5,
     "metadata": {},
     "output_type": "execute_result"
    }
   ],
   "source": [
    "len(anomalies_df)"
   ],
   "metadata": {
    "collapsed": false
   }
  },
  {
   "cell_type": "code",
   "execution_count": 11,
   "outputs": [],
   "source": [
    "anomalies_df = anomalies_df.drop(columns=['Unnamed: 0','Unnamed: 0.1'])"
   ],
   "metadata": {
    "collapsed": false
   }
  },
  {
   "cell_type": "code",
   "execution_count": 13,
   "outputs": [
    {
     "data": {
      "text/plain": "         mapped_veh_id       timestamps_UTC        lat       lon  \\\n2662100          182.0  2023-01-23 08:24:04  51.035656  3.710717   \n2662101          182.0  2023-01-23 08:24:56  51.035410  3.711797   \n2662102          182.0  2023-01-23 08:25:57  51.035407  3.711814   \n2662103          182.0  2023-01-23 08:30:00  51.035400  3.711835   \n2662104          182.0  2023-01-23 08:31:00  51.035399  3.711808   \n...                ...                  ...        ...       ...   \n2792964          182.0  2023-09-13 16:24:15  50.768640  3.870845   \n2792965          182.0  2023-09-13 16:25:16  50.771994  3.872430   \n2792966          182.0  2023-09-13 16:26:16  50.774384  3.872867   \n2792967          182.0  2023-09-13 16:26:37  50.774389  3.872878   \n2792968          182.0  2023-09-13 16:27:16  50.774376  3.872856   \n\n         RS_E_InAirTemp_PC1  RS_E_InAirTemp_PC2  RS_E_OilPress_PC1  \\\n2662100                  16                   9              207.0   \n2662101                  16                   8              210.0   \n2662102                  17                   8              210.0   \n2662103                  17                   7              217.0   \n2662104                  16                   7              220.0   \n...                     ...                 ...                ...   \n2792964                  31                  36              179.0   \n2792965                  33                  35              179.0   \n2792966                  33                  35              179.0   \n2792967                  35                  35               17.0   \n2792968                  40                  42                3.0   \n\n         RS_E_OilPress_PC2  RS_E_RPM_PC1  RS_E_RPM_PC2  ...  \\\n2662100              224.0         806.0         799.0  ...   \n2662101              224.0         797.0         799.0  ...   \n2662102              224.0         798.0         798.0  ...   \n2662103              227.0         802.0         799.0  ...   \n2662104              231.0         801.0         802.0  ...   \n...                    ...           ...           ...  ...   \n2792964              179.0         803.0         801.0  ...   \n2792965              175.0         799.0         800.0  ...   \n2792966              179.0         799.0         799.0  ...   \n2792967               51.0         142.0         142.0  ...   \n2792968                3.0           0.0           0.0  ...   \n\n               station_name    province_name  outside_temp        weather  \\\n2662100  Ghent Sint Pieters  Oost-Vlaanderen           1.7  Broken clouds   \n2662101  Ghent Sint Pieters  Oost-Vlaanderen           1.7  Broken clouds   \n2662102  Ghent Sint Pieters  Oost-Vlaanderen           1.7  Broken clouds   \n2662103  Ghent Sint Pieters  Oost-Vlaanderen           1.7  Broken clouds   \n2662104  Ghent Sint Pieters  Oost-Vlaanderen           1.9  Broken clouds   \n...                     ...              ...           ...            ...   \n2792964      Geraardsbergen  Oost-Vlaanderen          19.7  Broken clouds   \n2792965      Geraardsbergen  Oost-Vlaanderen          19.7  Broken clouds   \n2792966                 NaN  Oost-Vlaanderen          19.7  Broken clouds   \n2792967                 NaN  Oost-Vlaanderen          19.7  Broken clouds   \n2792968                 NaN  Oost-Vlaanderen          19.7  Broken clouds   \n\n        speed anomaly_RS_E_InAirTemp_PC1  anomaly_RS_T_OilTemp_PC1  \\\n2662100     0                         No                        No   \n2662101     5                         No                        No   \n2662102     0                         No                        No   \n2662103     0                         No                        No   \n2662104     0                         No                        No   \n...       ...                        ...                       ...   \n2792964    21                         No                        No   \n2792965    22                         No                        No   \n2792966    16                         No                        No   \n2792967     0                         No                        No   \n2792968     0                         No                        No   \n\n        anomaly_RS_E_OilPress_PC1  anomaly_RS_E_RPM_PC1  \\\n2662100                        No                    No   \n2662101                        No                    No   \n2662102                        No                    No   \n2662103                        No                    No   \n2662104                        No                    No   \n...                           ...                   ...   \n2792964                        No                    No   \n2792965                        No                    No   \n2792966                        No                    No   \n2792967                        No                    No   \n2792968                        No                    No   \n\n        anomaly_RS_E_WatTemp_PC1  \n2662100                       No  \n2662101                       No  \n2662102                       No  \n2662103                       No  \n2662104                       No  \n...                          ...  \n2792964                       No  \n2792965                       No  \n2792966                       No  \n2792967                       No  \n2792968                       No  \n\n[130869 rows x 24 columns]",
      "text/html": "<div>\n<style scoped>\n    .dataframe tbody tr th:only-of-type {\n        vertical-align: middle;\n    }\n\n    .dataframe tbody tr th {\n        vertical-align: top;\n    }\n\n    .dataframe thead th {\n        text-align: right;\n    }\n</style>\n<table border=\"1\" class=\"dataframe\">\n  <thead>\n    <tr style=\"text-align: right;\">\n      <th></th>\n      <th>mapped_veh_id</th>\n      <th>timestamps_UTC</th>\n      <th>lat</th>\n      <th>lon</th>\n      <th>RS_E_InAirTemp_PC1</th>\n      <th>RS_E_InAirTemp_PC2</th>\n      <th>RS_E_OilPress_PC1</th>\n      <th>RS_E_OilPress_PC2</th>\n      <th>RS_E_RPM_PC1</th>\n      <th>RS_E_RPM_PC2</th>\n      <th>...</th>\n      <th>station_name</th>\n      <th>province_name</th>\n      <th>outside_temp</th>\n      <th>weather</th>\n      <th>speed</th>\n      <th>anomaly_RS_E_InAirTemp_PC1</th>\n      <th>anomaly_RS_T_OilTemp_PC1</th>\n      <th>anomaly_RS_E_OilPress_PC1</th>\n      <th>anomaly_RS_E_RPM_PC1</th>\n      <th>anomaly_RS_E_WatTemp_PC1</th>\n    </tr>\n  </thead>\n  <tbody>\n    <tr>\n      <th>2662100</th>\n      <td>182.0</td>\n      <td>2023-01-23 08:24:04</td>\n      <td>51.035656</td>\n      <td>3.710717</td>\n      <td>16</td>\n      <td>9</td>\n      <td>207.0</td>\n      <td>224.0</td>\n      <td>806.0</td>\n      <td>799.0</td>\n      <td>...</td>\n      <td>Ghent Sint Pieters</td>\n      <td>Oost-Vlaanderen</td>\n      <td>1.7</td>\n      <td>Broken clouds</td>\n      <td>0</td>\n      <td>No</td>\n      <td>No</td>\n      <td>No</td>\n      <td>No</td>\n      <td>No</td>\n    </tr>\n    <tr>\n      <th>2662101</th>\n      <td>182.0</td>\n      <td>2023-01-23 08:24:56</td>\n      <td>51.035410</td>\n      <td>3.711797</td>\n      <td>16</td>\n      <td>8</td>\n      <td>210.0</td>\n      <td>224.0</td>\n      <td>797.0</td>\n      <td>799.0</td>\n      <td>...</td>\n      <td>Ghent Sint Pieters</td>\n      <td>Oost-Vlaanderen</td>\n      <td>1.7</td>\n      <td>Broken clouds</td>\n      <td>5</td>\n      <td>No</td>\n      <td>No</td>\n      <td>No</td>\n      <td>No</td>\n      <td>No</td>\n    </tr>\n    <tr>\n      <th>2662102</th>\n      <td>182.0</td>\n      <td>2023-01-23 08:25:57</td>\n      <td>51.035407</td>\n      <td>3.711814</td>\n      <td>17</td>\n      <td>8</td>\n      <td>210.0</td>\n      <td>224.0</td>\n      <td>798.0</td>\n      <td>798.0</td>\n      <td>...</td>\n      <td>Ghent Sint Pieters</td>\n      <td>Oost-Vlaanderen</td>\n      <td>1.7</td>\n      <td>Broken clouds</td>\n      <td>0</td>\n      <td>No</td>\n      <td>No</td>\n      <td>No</td>\n      <td>No</td>\n      <td>No</td>\n    </tr>\n    <tr>\n      <th>2662103</th>\n      <td>182.0</td>\n      <td>2023-01-23 08:30:00</td>\n      <td>51.035400</td>\n      <td>3.711835</td>\n      <td>17</td>\n      <td>7</td>\n      <td>217.0</td>\n      <td>227.0</td>\n      <td>802.0</td>\n      <td>799.0</td>\n      <td>...</td>\n      <td>Ghent Sint Pieters</td>\n      <td>Oost-Vlaanderen</td>\n      <td>1.7</td>\n      <td>Broken clouds</td>\n      <td>0</td>\n      <td>No</td>\n      <td>No</td>\n      <td>No</td>\n      <td>No</td>\n      <td>No</td>\n    </tr>\n    <tr>\n      <th>2662104</th>\n      <td>182.0</td>\n      <td>2023-01-23 08:31:00</td>\n      <td>51.035399</td>\n      <td>3.711808</td>\n      <td>16</td>\n      <td>7</td>\n      <td>220.0</td>\n      <td>231.0</td>\n      <td>801.0</td>\n      <td>802.0</td>\n      <td>...</td>\n      <td>Ghent Sint Pieters</td>\n      <td>Oost-Vlaanderen</td>\n      <td>1.9</td>\n      <td>Broken clouds</td>\n      <td>0</td>\n      <td>No</td>\n      <td>No</td>\n      <td>No</td>\n      <td>No</td>\n      <td>No</td>\n    </tr>\n    <tr>\n      <th>...</th>\n      <td>...</td>\n      <td>...</td>\n      <td>...</td>\n      <td>...</td>\n      <td>...</td>\n      <td>...</td>\n      <td>...</td>\n      <td>...</td>\n      <td>...</td>\n      <td>...</td>\n      <td>...</td>\n      <td>...</td>\n      <td>...</td>\n      <td>...</td>\n      <td>...</td>\n      <td>...</td>\n      <td>...</td>\n      <td>...</td>\n      <td>...</td>\n      <td>...</td>\n      <td>...</td>\n    </tr>\n    <tr>\n      <th>2792964</th>\n      <td>182.0</td>\n      <td>2023-09-13 16:24:15</td>\n      <td>50.768640</td>\n      <td>3.870845</td>\n      <td>31</td>\n      <td>36</td>\n      <td>179.0</td>\n      <td>179.0</td>\n      <td>803.0</td>\n      <td>801.0</td>\n      <td>...</td>\n      <td>Geraardsbergen</td>\n      <td>Oost-Vlaanderen</td>\n      <td>19.7</td>\n      <td>Broken clouds</td>\n      <td>21</td>\n      <td>No</td>\n      <td>No</td>\n      <td>No</td>\n      <td>No</td>\n      <td>No</td>\n    </tr>\n    <tr>\n      <th>2792965</th>\n      <td>182.0</td>\n      <td>2023-09-13 16:25:16</td>\n      <td>50.771994</td>\n      <td>3.872430</td>\n      <td>33</td>\n      <td>35</td>\n      <td>179.0</td>\n      <td>175.0</td>\n      <td>799.0</td>\n      <td>800.0</td>\n      <td>...</td>\n      <td>Geraardsbergen</td>\n      <td>Oost-Vlaanderen</td>\n      <td>19.7</td>\n      <td>Broken clouds</td>\n      <td>22</td>\n      <td>No</td>\n      <td>No</td>\n      <td>No</td>\n      <td>No</td>\n      <td>No</td>\n    </tr>\n    <tr>\n      <th>2792966</th>\n      <td>182.0</td>\n      <td>2023-09-13 16:26:16</td>\n      <td>50.774384</td>\n      <td>3.872867</td>\n      <td>33</td>\n      <td>35</td>\n      <td>179.0</td>\n      <td>179.0</td>\n      <td>799.0</td>\n      <td>799.0</td>\n      <td>...</td>\n      <td>NaN</td>\n      <td>Oost-Vlaanderen</td>\n      <td>19.7</td>\n      <td>Broken clouds</td>\n      <td>16</td>\n      <td>No</td>\n      <td>No</td>\n      <td>No</td>\n      <td>No</td>\n      <td>No</td>\n    </tr>\n    <tr>\n      <th>2792967</th>\n      <td>182.0</td>\n      <td>2023-09-13 16:26:37</td>\n      <td>50.774389</td>\n      <td>3.872878</td>\n      <td>35</td>\n      <td>35</td>\n      <td>17.0</td>\n      <td>51.0</td>\n      <td>142.0</td>\n      <td>142.0</td>\n      <td>...</td>\n      <td>NaN</td>\n      <td>Oost-Vlaanderen</td>\n      <td>19.7</td>\n      <td>Broken clouds</td>\n      <td>0</td>\n      <td>No</td>\n      <td>No</td>\n      <td>No</td>\n      <td>No</td>\n      <td>No</td>\n    </tr>\n    <tr>\n      <th>2792968</th>\n      <td>182.0</td>\n      <td>2023-09-13 16:27:16</td>\n      <td>50.774376</td>\n      <td>3.872856</td>\n      <td>40</td>\n      <td>42</td>\n      <td>3.0</td>\n      <td>3.0</td>\n      <td>0.0</td>\n      <td>0.0</td>\n      <td>...</td>\n      <td>NaN</td>\n      <td>Oost-Vlaanderen</td>\n      <td>19.7</td>\n      <td>Broken clouds</td>\n      <td>0</td>\n      <td>No</td>\n      <td>No</td>\n      <td>No</td>\n      <td>No</td>\n      <td>No</td>\n    </tr>\n  </tbody>\n</table>\n<p>130869 rows × 24 columns</p>\n</div>"
     },
     "execution_count": 13,
     "metadata": {},
     "output_type": "execute_result"
    }
   ],
   "source": [
    "anomalies_df[anomalies_df['mapped_veh_id']==182]"
   ],
   "metadata": {
    "collapsed": false
   }
  },
  {
   "cell_type": "code",
   "execution_count": 10,
   "outputs": [
    {
     "data": {
      "text/plain": "Empty DataFrame\nColumns: [Unnamed: 0.1, Unnamed: 0, mapped_veh_id, timestamps_UTC, lat, lon, RS_E_InAirTemp_PC1, RS_E_InAirTemp_PC2, RS_E_OilPress_PC1, RS_E_OilPress_PC2, RS_E_RPM_PC1, RS_E_RPM_PC2, RS_E_WatTemp_PC1, RS_E_WatTemp_PC2, RS_T_OilTemp_PC1, RS_T_OilTemp_PC2, station_name, province_name, outside_temp, weather, speed, anomaly_RS_E_InAirTemp_PC1, anomaly_RS_T_OilTemp_PC1, anomaly_RS_E_OilPress_PC1, anomaly_RS_E_RPM_PC1, anomaly_RS_E_WatTemp_PC1]\nIndex: []\n\n[0 rows x 26 columns]",
      "text/html": "<div>\n<style scoped>\n    .dataframe tbody tr th:only-of-type {\n        vertical-align: middle;\n    }\n\n    .dataframe tbody tr th {\n        vertical-align: top;\n    }\n\n    .dataframe thead th {\n        text-align: right;\n    }\n</style>\n<table border=\"1\" class=\"dataframe\">\n  <thead>\n    <tr style=\"text-align: right;\">\n      <th></th>\n      <th>Unnamed: 0.1</th>\n      <th>Unnamed: 0</th>\n      <th>mapped_veh_id</th>\n      <th>timestamps_UTC</th>\n      <th>lat</th>\n      <th>lon</th>\n      <th>RS_E_InAirTemp_PC1</th>\n      <th>RS_E_InAirTemp_PC2</th>\n      <th>RS_E_OilPress_PC1</th>\n      <th>RS_E_OilPress_PC2</th>\n      <th>...</th>\n      <th>station_name</th>\n      <th>province_name</th>\n      <th>outside_temp</th>\n      <th>weather</th>\n      <th>speed</th>\n      <th>anomaly_RS_E_InAirTemp_PC1</th>\n      <th>anomaly_RS_T_OilTemp_PC1</th>\n      <th>anomaly_RS_E_OilPress_PC1</th>\n      <th>anomaly_RS_E_RPM_PC1</th>\n      <th>anomaly_RS_E_WatTemp_PC1</th>\n    </tr>\n  </thead>\n  <tbody>\n  </tbody>\n</table>\n<p>0 rows × 26 columns</p>\n</div>"
     },
     "execution_count": 10,
     "metadata": {},
     "output_type": "execute_result"
    }
   ],
   "source": [
    "anomalies_df[pd.isna(anomalies_df['anomaly_RS_E_InAirTemp_PC1'])]"
   ],
   "metadata": {
    "collapsed": false
   }
  },
  {
   "cell_type": "code",
   "execution_count": 26,
   "outputs": [
    {
     "data": {
      "text/plain": "0.35511925899955893"
     },
     "execution_count": 26,
     "metadata": {},
     "output_type": "execute_result"
    }
   ],
   "source": [
    "(len(forecast[forecast['anomaly'] == 'Yes'])/len(forecast))*100"
   ],
   "metadata": {
    "collapsed": false
   }
  },
  {
   "cell_type": "code",
   "execution_count": 27,
   "outputs": [
    {
     "data": {
      "text/plain": "88421"
     },
     "execution_count": 27,
     "metadata": {},
     "output_type": "execute_result"
    }
   ],
   "source": [
    "len(forecast)"
   ],
   "metadata": {
    "collapsed": false
   }
  },
  {
   "cell_type": "code",
   "execution_count": 6,
   "metadata": {},
   "outputs": [],
   "source": [
    "# Save model\n",
    "# with open('serialized_model.json', 'w') as fout:\n",
    "#     fout.write(model_to_json(my_model))\n",
    "# Load model\n",
    "# with open('serialized_model.json', 'r') as fin:\n",
    "#    my_model = model_from_json(fin.read())"
   ]
  },
  {
   "cell_type": "code",
   "execution_count": 31,
   "outputs": [],
   "source": [
    "test_set = df[~(df['mapped_veh_id'].isin(vehicles_id_train))]\n",
    "test_set = test_set[[\"timestamps_UTC\",\"mapped_veh_id\",'RS_E_InAirTemp_PC1',\"RS_T_OilTemp_PC1\",\"RS_E_OilPress_PC1\",\"RS_E_RPM_PC1\",\"RS_E_WatTemp_PC1\",\"speed\",\"outside_temp\"]]\n",
    "# test_set['timestamps_UTC'] = test_set['timestamps_UTC'].apply(lambda x : datetime.strptime(x ,'%Y-%m-%d %H:%M:%S'))\n",
    "test_set = test_set.rename(columns={'timestamps_UTC': 'ds'})"
   ],
   "metadata": {
    "collapsed": false
   }
  },
  {
   "cell_type": "code",
   "execution_count": 32,
   "outputs": [
    {
     "name": "stdout",
     "output_type": "stream",
     "text": [
      "102.0\n",
      "104.0\n",
      "105.0\n",
      "107.0\n",
      "108.0\n",
      "109.0\n",
      "110.0\n",
      "112.0\n",
      "114.0\n",
      "119.0\n",
      "121.0\n",
      "122.0\n",
      "123.0\n",
      "124.0\n",
      "126.0\n",
      "127.0\n",
      "128.0\n",
      "129.0\n",
      "133.0\n",
      "134.0\n",
      "137.0\n",
      "138.0\n",
      "139.0\n",
      "142.0\n",
      "143.0\n",
      "145.0\n",
      "148.0\n",
      "150.0\n",
      "152.0\n",
      "160.0\n",
      "162.0\n",
      "164.0\n",
      "165.0\n",
      "167.0\n",
      "169.0\n",
      "173.0\n",
      "174.0\n",
      "176.0\n",
      "178.0\n",
      "182.0\n",
      "184.0\n",
      "187.0\n",
      "188.0\n",
      "189.0\n",
      "191.0\n",
      "194.0\n"
     ]
    }
   ],
   "source": [
    "test_set = pd.DataFrame(test_set)\n",
    "all_predictions = {}\n",
    "\n",
    "for veh_id, veh_df in test_set.groupby('mapped_veh_id'):\n",
    "    print(veh_id)\n",
    "    veh_df = veh_df.drop(columns='mapped_veh_id')\n",
    "    predictions_batch = my_model.predict(veh_df)\n",
    "    all_predictions[veh_id] = predictions_batch"
   ],
   "metadata": {
    "collapsed": false
   }
  },
  {
   "cell_type": "code",
   "execution_count": 48,
   "metadata": {},
   "outputs": [],
   "source": [
    "forecast = all_predictions[104]\n",
    "forecast['y'] = train_set['RS_E_InAirTemp_PC1'].reset_index(drop = True)\n",
    "forecast[['ds', 'yhat', 'yhat_lower', 'yhat_upper','y']].head()\n",
    "forecast['error'] = forecast['y'] - forecast['yhat']\n",
    "forecast['uncertainity'] = forecast['yhat_upper'] - forecast['yhat_lower']\n",
    "threshold  = 2\n",
    "\n",
    "# forecast[forecast['error'].abs() > threshold * forecast['uncertainity']].head()\n",
    "#---------------------------Plot------------------------------------------\n",
    "forecast['anomaly'] = forecast.apply(lambda x: 'Yes' if ( np.abs(x['error']) > threshold * x['uncertainity'] ) else 'No', axis=1)\n",
    "\n",
    "# forecast['anomaly'] = forecast.apply(lambda x: 'yes' if ( x['y'] > x['yhat_upper'] or x['y'] < x['yhat_lower'] ) else 'No', axis=1)\n",
    "\n",
    "fig = px.scatter(forecast.reset_index(), x='ds', y='y',\n",
    "                color='anomaly', title='SNCB outliers')\n",
    "fig.update_xaxes(rangeslider_visible=True,\n",
    "                rangeselector=dict(buttons=list([\n",
    "                    dict(count=1, label='January', step='month', stepmode='backward'),\n",
    "                    dict(count=2, label='February', step='month', stepmode='backward'),\n",
    "                    dict(count=3, label='March', step='month', stepmode='backward'),\n",
    "                    dict(step='all')\n",
    "                ])))\n",
    "fig.write_html(\"./plot/timeseries_anomalies.html\")"
   ]
  },
  {
   "cell_type": "code",
   "execution_count": 49,
   "outputs": [
    {
     "data": {
      "text/plain": "                        ds      trend  yhat_lower  yhat_upper  trend_lower  \\\n884    2023-01-23 23:04:57  28.960456    5.722635   25.340389    28.960456   \n892    2023-01-23 23:12:59  28.959727    4.702397   24.553586    28.959727   \n938    2023-01-23 23:59:51  28.955470    1.504736   20.987397    28.955470   \n979    2023-01-24 00:41:00  28.951733   -0.568479   18.630520    28.951733   \n1017   2023-01-24 01:19:58  28.948194   -2.148661   17.062535    28.948194   \n...                    ...        ...         ...         ...          ...   \n102548 2023-08-28 01:03:48  32.017575   -2.892779   17.074256    32.017575   \n102576 2023-08-28 02:31:59  32.018666    3.618257   23.691638    32.018666   \n104012 2023-09-01 03:25:28  32.090600    2.057064   21.856769    32.090600   \n105230 2023-09-05 17:54:32  32.172626   34.014807   54.275380    32.172626   \n107132 2023-09-07 17:08:39  32.207694   37.007796   56.452790    32.207694   \n\n        trend_upper  RS_E_OilPress_PC1  RS_E_OilPress_PC1_lower  \\\n884       28.960456          -4.944087                -4.944087   \n892       28.959727          -4.791004                -4.791004   \n938       28.955470          -4.676192                -4.676192   \n979       28.951733          -4.791004                -4.791004   \n1017      28.948194          -4.676192                -4.676192   \n...             ...                ...                      ...   \n102548    32.017575         -10.340264               -10.340264   \n102576    32.018666          -5.747773                -5.747773   \n104012    32.090600          -9.421766                -9.421766   \n105230    32.172626           2.059461                 2.059461   \n107132    32.207694           2.863147                 2.863147   \n\n        RS_E_OilPress_PC1_upper  RS_E_RPM_PC1  ...  weekly_lower  \\\n884                   -4.944087     -1.127617  ...      0.192061   \n892                   -4.791004     -1.102971  ...      0.193105   \n938                   -4.676192     -1.135832  ...      0.198571   \n979                   -4.791004     -1.111186  ...      0.202491   \n1017                  -4.676192     -1.102971  ...      0.205450   \n...                         ...           ...  ...           ...   \n102548               -10.340264     -1.102971  ...     -0.242015   \n102576                -5.747773     -1.201553  ...     -0.212328   \n104012                -9.421766     -1.152262  ...      0.032124   \n105230                 2.059461     -1.135832  ...      0.102504   \n107132                 2.863147     -1.349425  ...      0.077630   \n\n        weekly_upper  multiplicative_terms  multiplicative_terms_lower  \\\n884         0.192061                   0.0                         0.0   \n892         0.193105                   0.0                         0.0   \n938         0.198571                   0.0                         0.0   \n979         0.202491                   0.0                         0.0   \n1017        0.205450                   0.0                         0.0   \n...              ...                   ...                         ...   \n102548     -0.242015                   0.0                         0.0   \n102576     -0.212328                   0.0                         0.0   \n104012      0.032124                   0.0                         0.0   \n105230      0.102504                   0.0                         0.0   \n107132      0.077630                   0.0                         0.0   \n\n        multiplicative_terms_upper       yhat   y      error  uncertainity  \\\n884                            0.0  15.745096  60  44.254904     19.617754   \n892                            0.0  14.940065  55  40.059935     19.851190   \n938                            0.0  11.594793  64  52.405207     19.482661   \n979                            0.0   9.163511  57  47.836489     19.198998   \n1017                           0.0   7.713132  47  39.286868     19.211196   \n...                            ...        ...  ..        ...           ...   \n102548                         0.0   6.496921  47  40.503079     19.967035   \n102576                         0.0  13.531157  56  42.468843     20.073381   \n104012                         0.0  12.099606  52  39.900394     19.799705   \n105230                         0.0  43.926930   3 -40.926930     20.260572   \n107132                         0.0  46.354024   6 -40.354024     19.444995   \n\n        anomaly  \n884         Yes  \n892         Yes  \n938         Yes  \n979         Yes  \n1017        Yes  \n...         ...  \n102548      Yes  \n102576      Yes  \n104012      Yes  \n105230      Yes  \n107132      Yes  \n\n[414 rows x 44 columns]",
      "text/html": "<div>\n<style scoped>\n    .dataframe tbody tr th:only-of-type {\n        vertical-align: middle;\n    }\n\n    .dataframe tbody tr th {\n        vertical-align: top;\n    }\n\n    .dataframe thead th {\n        text-align: right;\n    }\n</style>\n<table border=\"1\" class=\"dataframe\">\n  <thead>\n    <tr style=\"text-align: right;\">\n      <th></th>\n      <th>ds</th>\n      <th>trend</th>\n      <th>yhat_lower</th>\n      <th>yhat_upper</th>\n      <th>trend_lower</th>\n      <th>trend_upper</th>\n      <th>RS_E_OilPress_PC1</th>\n      <th>RS_E_OilPress_PC1_lower</th>\n      <th>RS_E_OilPress_PC1_upper</th>\n      <th>RS_E_RPM_PC1</th>\n      <th>...</th>\n      <th>weekly_lower</th>\n      <th>weekly_upper</th>\n      <th>multiplicative_terms</th>\n      <th>multiplicative_terms_lower</th>\n      <th>multiplicative_terms_upper</th>\n      <th>yhat</th>\n      <th>y</th>\n      <th>error</th>\n      <th>uncertainity</th>\n      <th>anomaly</th>\n    </tr>\n  </thead>\n  <tbody>\n    <tr>\n      <th>884</th>\n      <td>2023-01-23 23:04:57</td>\n      <td>28.960456</td>\n      <td>5.722635</td>\n      <td>25.340389</td>\n      <td>28.960456</td>\n      <td>28.960456</td>\n      <td>-4.944087</td>\n      <td>-4.944087</td>\n      <td>-4.944087</td>\n      <td>-1.127617</td>\n      <td>...</td>\n      <td>0.192061</td>\n      <td>0.192061</td>\n      <td>0.0</td>\n      <td>0.0</td>\n      <td>0.0</td>\n      <td>15.745096</td>\n      <td>60</td>\n      <td>44.254904</td>\n      <td>19.617754</td>\n      <td>Yes</td>\n    </tr>\n    <tr>\n      <th>892</th>\n      <td>2023-01-23 23:12:59</td>\n      <td>28.959727</td>\n      <td>4.702397</td>\n      <td>24.553586</td>\n      <td>28.959727</td>\n      <td>28.959727</td>\n      <td>-4.791004</td>\n      <td>-4.791004</td>\n      <td>-4.791004</td>\n      <td>-1.102971</td>\n      <td>...</td>\n      <td>0.193105</td>\n      <td>0.193105</td>\n      <td>0.0</td>\n      <td>0.0</td>\n      <td>0.0</td>\n      <td>14.940065</td>\n      <td>55</td>\n      <td>40.059935</td>\n      <td>19.851190</td>\n      <td>Yes</td>\n    </tr>\n    <tr>\n      <th>938</th>\n      <td>2023-01-23 23:59:51</td>\n      <td>28.955470</td>\n      <td>1.504736</td>\n      <td>20.987397</td>\n      <td>28.955470</td>\n      <td>28.955470</td>\n      <td>-4.676192</td>\n      <td>-4.676192</td>\n      <td>-4.676192</td>\n      <td>-1.135832</td>\n      <td>...</td>\n      <td>0.198571</td>\n      <td>0.198571</td>\n      <td>0.0</td>\n      <td>0.0</td>\n      <td>0.0</td>\n      <td>11.594793</td>\n      <td>64</td>\n      <td>52.405207</td>\n      <td>19.482661</td>\n      <td>Yes</td>\n    </tr>\n    <tr>\n      <th>979</th>\n      <td>2023-01-24 00:41:00</td>\n      <td>28.951733</td>\n      <td>-0.568479</td>\n      <td>18.630520</td>\n      <td>28.951733</td>\n      <td>28.951733</td>\n      <td>-4.791004</td>\n      <td>-4.791004</td>\n      <td>-4.791004</td>\n      <td>-1.111186</td>\n      <td>...</td>\n      <td>0.202491</td>\n      <td>0.202491</td>\n      <td>0.0</td>\n      <td>0.0</td>\n      <td>0.0</td>\n      <td>9.163511</td>\n      <td>57</td>\n      <td>47.836489</td>\n      <td>19.198998</td>\n      <td>Yes</td>\n    </tr>\n    <tr>\n      <th>1017</th>\n      <td>2023-01-24 01:19:58</td>\n      <td>28.948194</td>\n      <td>-2.148661</td>\n      <td>17.062535</td>\n      <td>28.948194</td>\n      <td>28.948194</td>\n      <td>-4.676192</td>\n      <td>-4.676192</td>\n      <td>-4.676192</td>\n      <td>-1.102971</td>\n      <td>...</td>\n      <td>0.205450</td>\n      <td>0.205450</td>\n      <td>0.0</td>\n      <td>0.0</td>\n      <td>0.0</td>\n      <td>7.713132</td>\n      <td>47</td>\n      <td>39.286868</td>\n      <td>19.211196</td>\n      <td>Yes</td>\n    </tr>\n    <tr>\n      <th>...</th>\n      <td>...</td>\n      <td>...</td>\n      <td>...</td>\n      <td>...</td>\n      <td>...</td>\n      <td>...</td>\n      <td>...</td>\n      <td>...</td>\n      <td>...</td>\n      <td>...</td>\n      <td>...</td>\n      <td>...</td>\n      <td>...</td>\n      <td>...</td>\n      <td>...</td>\n      <td>...</td>\n      <td>...</td>\n      <td>...</td>\n      <td>...</td>\n      <td>...</td>\n      <td>...</td>\n    </tr>\n    <tr>\n      <th>102548</th>\n      <td>2023-08-28 01:03:48</td>\n      <td>32.017575</td>\n      <td>-2.892779</td>\n      <td>17.074256</td>\n      <td>32.017575</td>\n      <td>32.017575</td>\n      <td>-10.340264</td>\n      <td>-10.340264</td>\n      <td>-10.340264</td>\n      <td>-1.102971</td>\n      <td>...</td>\n      <td>-0.242015</td>\n      <td>-0.242015</td>\n      <td>0.0</td>\n      <td>0.0</td>\n      <td>0.0</td>\n      <td>6.496921</td>\n      <td>47</td>\n      <td>40.503079</td>\n      <td>19.967035</td>\n      <td>Yes</td>\n    </tr>\n    <tr>\n      <th>102576</th>\n      <td>2023-08-28 02:31:59</td>\n      <td>32.018666</td>\n      <td>3.618257</td>\n      <td>23.691638</td>\n      <td>32.018666</td>\n      <td>32.018666</td>\n      <td>-5.747773</td>\n      <td>-5.747773</td>\n      <td>-5.747773</td>\n      <td>-1.201553</td>\n      <td>...</td>\n      <td>-0.212328</td>\n      <td>-0.212328</td>\n      <td>0.0</td>\n      <td>0.0</td>\n      <td>0.0</td>\n      <td>13.531157</td>\n      <td>56</td>\n      <td>42.468843</td>\n      <td>20.073381</td>\n      <td>Yes</td>\n    </tr>\n    <tr>\n      <th>104012</th>\n      <td>2023-09-01 03:25:28</td>\n      <td>32.090600</td>\n      <td>2.057064</td>\n      <td>21.856769</td>\n      <td>32.090600</td>\n      <td>32.090600</td>\n      <td>-9.421766</td>\n      <td>-9.421766</td>\n      <td>-9.421766</td>\n      <td>-1.152262</td>\n      <td>...</td>\n      <td>0.032124</td>\n      <td>0.032124</td>\n      <td>0.0</td>\n      <td>0.0</td>\n      <td>0.0</td>\n      <td>12.099606</td>\n      <td>52</td>\n      <td>39.900394</td>\n      <td>19.799705</td>\n      <td>Yes</td>\n    </tr>\n    <tr>\n      <th>105230</th>\n      <td>2023-09-05 17:54:32</td>\n      <td>32.172626</td>\n      <td>34.014807</td>\n      <td>54.275380</td>\n      <td>32.172626</td>\n      <td>32.172626</td>\n      <td>2.059461</td>\n      <td>2.059461</td>\n      <td>2.059461</td>\n      <td>-1.135832</td>\n      <td>...</td>\n      <td>0.102504</td>\n      <td>0.102504</td>\n      <td>0.0</td>\n      <td>0.0</td>\n      <td>0.0</td>\n      <td>43.926930</td>\n      <td>3</td>\n      <td>-40.926930</td>\n      <td>20.260572</td>\n      <td>Yes</td>\n    </tr>\n    <tr>\n      <th>107132</th>\n      <td>2023-09-07 17:08:39</td>\n      <td>32.207694</td>\n      <td>37.007796</td>\n      <td>56.452790</td>\n      <td>32.207694</td>\n      <td>32.207694</td>\n      <td>2.863147</td>\n      <td>2.863147</td>\n      <td>2.863147</td>\n      <td>-1.349425</td>\n      <td>...</td>\n      <td>0.077630</td>\n      <td>0.077630</td>\n      <td>0.0</td>\n      <td>0.0</td>\n      <td>0.0</td>\n      <td>46.354024</td>\n      <td>6</td>\n      <td>-40.354024</td>\n      <td>19.444995</td>\n      <td>Yes</td>\n    </tr>\n  </tbody>\n</table>\n<p>414 rows × 44 columns</p>\n</div>"
     },
     "execution_count": 49,
     "metadata": {},
     "output_type": "execute_result"
    }
   ],
   "source": [
    "forecast[forecast['anomaly'] == 'Yes']"
   ],
   "metadata": {
    "collapsed": false
   }
  },
  {
   "cell_type": "code",
   "execution_count": 14,
   "outputs": [
    {
     "data": {
      "text/plain": "                        ds      trend  yhat_lower  yhat_upper  trend_lower  \\\n16     2023-01-23 08:46:44  28.142466   13.691419   32.320539    28.142466   \n18     2023-01-23 08:48:45  28.142582   14.225319   33.511483    28.142582   \n72     2023-01-23 09:39:43  28.145499   16.425543   35.865254    28.145499   \n75     2023-01-23 09:42:47  28.145674   15.732895   34.792208    28.145674   \n113    2023-01-23 10:19:48  28.147793   15.013557   33.119388    28.147793   \n...                    ...        ...         ...         ...          ...   \n107358 2023-09-07 20:40:42  32.238775   30.424705   49.898365    32.238775   \n107543 2023-09-08 13:59:25  32.250641   18.971402   37.790002    32.250641   \n107627 2023-09-12 05:52:14  32.310876    2.156333   20.671100    32.310876   \n107745 2023-09-12 15:40:50  32.317600   11.358505   30.372730    32.317600   \n107746 2023-09-12 15:41:19  32.317605   11.768306   30.735104    32.317605   \n\n        trend_upper  RS_E_OilPress_PC1  RS_E_OilPress_PC1_lower  \\\n16        28.142466           1.767308                 1.767308   \n18        28.142582           1.882914                 1.882914   \n72        28.145499           2.538016                 2.538016   \n75        28.145674          -3.434969                -3.434969   \n113       28.147793           1.767308                 1.767308   \n...             ...                ...                      ...   \n107358    32.238775           1.998521                 1.998521   \n107543    32.250641          -5.284668                -5.284668   \n107627    32.310876         -11.084244               -11.084244   \n107745    32.317600          -8.213358                -8.213358   \n107746    32.317605          -7.943610                -7.943610   \n\n        RS_E_OilPress_PC1_upper  RS_E_RPM_PC1  ...  weekly_lower  \\\n16                     1.767308     -1.173607  ...     -0.050163   \n18                     1.882914     -1.192314  ...     -0.049473   \n72                     2.538016     -0.827537  ...     -0.032072   \n75                    -3.434969      4.475750  ...     -0.031028   \n113                    1.767308     -1.145548  ...     -0.018452   \n...                         ...           ...  ...           ...   \n107358                 1.998521     -1.145548  ...      0.007355   \n107543                -5.284668     -1.164254  ...      0.097140   \n107627               -11.084244     -1.178284  ...      0.257645   \n107745                -8.213358     -1.173607  ...      0.263662   \n107746                -7.943610     -1.173607  ...      0.263633   \n\n        weekly_upper  multiplicative_terms  multiplicative_terms_lower  \\\n16         -0.050163                   0.0                         0.0   \n18         -0.049473                   0.0                         0.0   \n72         -0.032072                   0.0                         0.0   \n75         -0.031028                   0.0                         0.0   \n113        -0.018452                   0.0                         0.0   \n...              ...                   ...                         ...   \n107358      0.007355                   0.0                         0.0   \n107543      0.097140                   0.0                         0.0   \n107627      0.257645                   0.0                         0.0   \n107745      0.263662                   0.0                         0.0   \n107746      0.263633                   0.0                         0.0   \n\n        multiplicative_terms_upper       yhat   y      error  uncertainity  \\\n16                             0.0  23.067562  56  32.932438     18.629120   \n18                             0.0  23.541509  55  31.458491     19.286163   \n72                             0.0  25.967296  65  39.032704     19.439711   \n75                             0.0  24.913277  60  35.086723     19.059313   \n113                            0.0  23.885625  52  28.114375     18.105832   \n...                            ...        ...  ..        ...           ...   \n107358                         0.0  40.347424  11 -29.347424     19.473660   \n107543                         0.0  28.847723  63  34.152277     18.818600   \n107627                         0.0  11.239890  43  31.760110     18.514767   \n107745                         0.0  20.491535  57  36.508465     19.014226   \n107746                         0.0  20.981654  62  41.018346     18.966798   \n\n        anomaly  \n16          yes  \n18          yes  \n72          yes  \n75          yes  \n113         yes  \n...         ...  \n107358      yes  \n107543      yes  \n107627      yes  \n107745      yes  \n107746      yes  \n\n[2571 rows x 41 columns]",
      "text/html": "<div>\n<style scoped>\n    .dataframe tbody tr th:only-of-type {\n        vertical-align: middle;\n    }\n\n    .dataframe tbody tr th {\n        vertical-align: top;\n    }\n\n    .dataframe thead th {\n        text-align: right;\n    }\n</style>\n<table border=\"1\" class=\"dataframe\">\n  <thead>\n    <tr style=\"text-align: right;\">\n      <th></th>\n      <th>ds</th>\n      <th>trend</th>\n      <th>yhat_lower</th>\n      <th>yhat_upper</th>\n      <th>trend_lower</th>\n      <th>trend_upper</th>\n      <th>RS_E_OilPress_PC1</th>\n      <th>RS_E_OilPress_PC1_lower</th>\n      <th>RS_E_OilPress_PC1_upper</th>\n      <th>RS_E_RPM_PC1</th>\n      <th>...</th>\n      <th>weekly_lower</th>\n      <th>weekly_upper</th>\n      <th>multiplicative_terms</th>\n      <th>multiplicative_terms_lower</th>\n      <th>multiplicative_terms_upper</th>\n      <th>yhat</th>\n      <th>y</th>\n      <th>error</th>\n      <th>uncertainity</th>\n      <th>anomaly</th>\n    </tr>\n  </thead>\n  <tbody>\n    <tr>\n      <th>16</th>\n      <td>2023-01-23 08:46:44</td>\n      <td>28.142466</td>\n      <td>13.691419</td>\n      <td>32.320539</td>\n      <td>28.142466</td>\n      <td>28.142466</td>\n      <td>1.767308</td>\n      <td>1.767308</td>\n      <td>1.767308</td>\n      <td>-1.173607</td>\n      <td>...</td>\n      <td>-0.050163</td>\n      <td>-0.050163</td>\n      <td>0.0</td>\n      <td>0.0</td>\n      <td>0.0</td>\n      <td>23.067562</td>\n      <td>56</td>\n      <td>32.932438</td>\n      <td>18.629120</td>\n      <td>yes</td>\n    </tr>\n    <tr>\n      <th>18</th>\n      <td>2023-01-23 08:48:45</td>\n      <td>28.142582</td>\n      <td>14.225319</td>\n      <td>33.511483</td>\n      <td>28.142582</td>\n      <td>28.142582</td>\n      <td>1.882914</td>\n      <td>1.882914</td>\n      <td>1.882914</td>\n      <td>-1.192314</td>\n      <td>...</td>\n      <td>-0.049473</td>\n      <td>-0.049473</td>\n      <td>0.0</td>\n      <td>0.0</td>\n      <td>0.0</td>\n      <td>23.541509</td>\n      <td>55</td>\n      <td>31.458491</td>\n      <td>19.286163</td>\n      <td>yes</td>\n    </tr>\n    <tr>\n      <th>72</th>\n      <td>2023-01-23 09:39:43</td>\n      <td>28.145499</td>\n      <td>16.425543</td>\n      <td>35.865254</td>\n      <td>28.145499</td>\n      <td>28.145499</td>\n      <td>2.538016</td>\n      <td>2.538016</td>\n      <td>2.538016</td>\n      <td>-0.827537</td>\n      <td>...</td>\n      <td>-0.032072</td>\n      <td>-0.032072</td>\n      <td>0.0</td>\n      <td>0.0</td>\n      <td>0.0</td>\n      <td>25.967296</td>\n      <td>65</td>\n      <td>39.032704</td>\n      <td>19.439711</td>\n      <td>yes</td>\n    </tr>\n    <tr>\n      <th>75</th>\n      <td>2023-01-23 09:42:47</td>\n      <td>28.145674</td>\n      <td>15.732895</td>\n      <td>34.792208</td>\n      <td>28.145674</td>\n      <td>28.145674</td>\n      <td>-3.434969</td>\n      <td>-3.434969</td>\n      <td>-3.434969</td>\n      <td>4.475750</td>\n      <td>...</td>\n      <td>-0.031028</td>\n      <td>-0.031028</td>\n      <td>0.0</td>\n      <td>0.0</td>\n      <td>0.0</td>\n      <td>24.913277</td>\n      <td>60</td>\n      <td>35.086723</td>\n      <td>19.059313</td>\n      <td>yes</td>\n    </tr>\n    <tr>\n      <th>113</th>\n      <td>2023-01-23 10:19:48</td>\n      <td>28.147793</td>\n      <td>15.013557</td>\n      <td>33.119388</td>\n      <td>28.147793</td>\n      <td>28.147793</td>\n      <td>1.767308</td>\n      <td>1.767308</td>\n      <td>1.767308</td>\n      <td>-1.145548</td>\n      <td>...</td>\n      <td>-0.018452</td>\n      <td>-0.018452</td>\n      <td>0.0</td>\n      <td>0.0</td>\n      <td>0.0</td>\n      <td>23.885625</td>\n      <td>52</td>\n      <td>28.114375</td>\n      <td>18.105832</td>\n      <td>yes</td>\n    </tr>\n    <tr>\n      <th>...</th>\n      <td>...</td>\n      <td>...</td>\n      <td>...</td>\n      <td>...</td>\n      <td>...</td>\n      <td>...</td>\n      <td>...</td>\n      <td>...</td>\n      <td>...</td>\n      <td>...</td>\n      <td>...</td>\n      <td>...</td>\n      <td>...</td>\n      <td>...</td>\n      <td>...</td>\n      <td>...</td>\n      <td>...</td>\n      <td>...</td>\n      <td>...</td>\n      <td>...</td>\n      <td>...</td>\n    </tr>\n    <tr>\n      <th>107358</th>\n      <td>2023-09-07 20:40:42</td>\n      <td>32.238775</td>\n      <td>30.424705</td>\n      <td>49.898365</td>\n      <td>32.238775</td>\n      <td>32.238775</td>\n      <td>1.998521</td>\n      <td>1.998521</td>\n      <td>1.998521</td>\n      <td>-1.145548</td>\n      <td>...</td>\n      <td>0.007355</td>\n      <td>0.007355</td>\n      <td>0.0</td>\n      <td>0.0</td>\n      <td>0.0</td>\n      <td>40.347424</td>\n      <td>11</td>\n      <td>-29.347424</td>\n      <td>19.473660</td>\n      <td>yes</td>\n    </tr>\n    <tr>\n      <th>107543</th>\n      <td>2023-09-08 13:59:25</td>\n      <td>32.250641</td>\n      <td>18.971402</td>\n      <td>37.790002</td>\n      <td>32.250641</td>\n      <td>32.250641</td>\n      <td>-5.284668</td>\n      <td>-5.284668</td>\n      <td>-5.284668</td>\n      <td>-1.164254</td>\n      <td>...</td>\n      <td>0.097140</td>\n      <td>0.097140</td>\n      <td>0.0</td>\n      <td>0.0</td>\n      <td>0.0</td>\n      <td>28.847723</td>\n      <td>63</td>\n      <td>34.152277</td>\n      <td>18.818600</td>\n      <td>yes</td>\n    </tr>\n    <tr>\n      <th>107627</th>\n      <td>2023-09-12 05:52:14</td>\n      <td>32.310876</td>\n      <td>2.156333</td>\n      <td>20.671100</td>\n      <td>32.310876</td>\n      <td>32.310876</td>\n      <td>-11.084244</td>\n      <td>-11.084244</td>\n      <td>-11.084244</td>\n      <td>-1.178284</td>\n      <td>...</td>\n      <td>0.257645</td>\n      <td>0.257645</td>\n      <td>0.0</td>\n      <td>0.0</td>\n      <td>0.0</td>\n      <td>11.239890</td>\n      <td>43</td>\n      <td>31.760110</td>\n      <td>18.514767</td>\n      <td>yes</td>\n    </tr>\n    <tr>\n      <th>107745</th>\n      <td>2023-09-12 15:40:50</td>\n      <td>32.317600</td>\n      <td>11.358505</td>\n      <td>30.372730</td>\n      <td>32.317600</td>\n      <td>32.317600</td>\n      <td>-8.213358</td>\n      <td>-8.213358</td>\n      <td>-8.213358</td>\n      <td>-1.173607</td>\n      <td>...</td>\n      <td>0.263662</td>\n      <td>0.263662</td>\n      <td>0.0</td>\n      <td>0.0</td>\n      <td>0.0</td>\n      <td>20.491535</td>\n      <td>57</td>\n      <td>36.508465</td>\n      <td>19.014226</td>\n      <td>yes</td>\n    </tr>\n    <tr>\n      <th>107746</th>\n      <td>2023-09-12 15:41:19</td>\n      <td>32.317605</td>\n      <td>11.768306</td>\n      <td>30.735104</td>\n      <td>32.317605</td>\n      <td>32.317605</td>\n      <td>-7.943610</td>\n      <td>-7.943610</td>\n      <td>-7.943610</td>\n      <td>-1.173607</td>\n      <td>...</td>\n      <td>0.263633</td>\n      <td>0.263633</td>\n      <td>0.0</td>\n      <td>0.0</td>\n      <td>0.0</td>\n      <td>20.981654</td>\n      <td>62</td>\n      <td>41.018346</td>\n      <td>18.966798</td>\n      <td>yes</td>\n    </tr>\n  </tbody>\n</table>\n<p>2571 rows × 41 columns</p>\n</div>"
     },
     "execution_count": 14,
     "metadata": {},
     "output_type": "execute_result"
    }
   ],
   "source": [
    "forecast[forecast['anomaly'] == 'f']"
   ],
   "metadata": {
    "collapsed": false
   }
  }
 ],
 "metadata": {
  "language_info": {
   "name": "python"
  }
 },
 "nbformat": 4,
 "nbformat_minor": 2
}
