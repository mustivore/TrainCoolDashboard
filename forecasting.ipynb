{
 "cells": [
  {
   "cell_type": "code",
   "execution_count": 1,
   "metadata": {},
   "outputs": [
    {
     "name": "stderr",
     "output_type": "stream",
     "text": [
      "C:\\Users\\User\\AppData\\Local\\Programs\\Python\\Python312\\Lib\\site-packages\\tqdm\\auto.py:21: TqdmWarning: IProgress not found. Please update jupyter and ipywidgets. See https://ipywidgets.readthedocs.io/en/stable/user_install.html\n",
      "  from .autonotebook import tqdm as notebook_tqdm\n"
     ]
    }
   ],
   "source": [
    "import pandas as pd\n",
    "import numpy as np\n",
    "\n",
    "from prophet import Prophet\n",
    "from prophet.serialize import model_to_json, model_from_json\n",
    "\n",
    "import plotly.express as px"
   ]
  },
  {
   "cell_type": "code",
   "execution_count": 21,
   "metadata": {},
   "outputs": [],
   "source": [
    "df = pd.read_csv(\"ar41_with_speed_cleaned.csv\",sep=\";\")\n",
    "df['timestamps_UTC'] = pd.to_datetime(df['timestamps_UTC'])"
   ]
  },
  {
   "cell_type": "code",
   "execution_count": 8,
   "outputs": [
    {
     "data": {
      "text/plain": "          Unnamed: 0  mapped_veh_id       timestamps_UTC        lat       lon  \\\n0                  0          181.0  2023-01-23 08:28:54  51.040004  3.692637   \n1                  1          181.0  2023-01-23 08:29:48  51.039857  3.693306   \n2                  2          181.0  2023-01-23 08:29:54  51.040017  3.692645   \n3                  3          181.0  2023-01-23 08:30:48  51.039853  3.693292   \n4                  4          181.0  2023-01-23 08:30:55  51.039999  3.692651   \n...              ...            ...                  ...        ...       ...   \n16867535    16867535          196.0  2023-09-04 00:27:36  50.420024  4.534313   \n16867536    16867536          196.0  2023-09-04 00:27:56  50.420183  4.534716   \n16867537    16867537          196.0  2023-09-08 09:40:09  50.420775  4.536776   \n16867538    16867538          196.0  2023-09-08 09:40:15  50.420509  4.536249   \n16867539    16867539          196.0  2023-09-13 01:28:20  50.093853  4.528850   \n\n          RS_E_InAirTemp_PC1  RS_E_InAirTemp_PC2  RS_E_OilPress_PC1  \\\n0                         13                  11              269.0   \n1                         13                  12              265.0   \n2                         13                  12              265.0   \n3                         13                  12              272.0   \n4                         13                  12              269.0   \n...                      ...                 ...                ...   \n16867535                  27                  27              386.0   \n16867536                  24                  25              517.5   \n16867537                  42                  42               13.0   \n16867538                  42                  42              103.0   \n16867539                  44                  49              345.0   \n\n          RS_E_OilPress_PC2  RS_E_RPM_PC1  ...  anomaly_RS_E_InAirTemp_PC1  \\\n0                     241.0         798.0  ...                          No   \n1                     238.0         801.0  ...                          No   \n2                     248.0         798.0  ...                          No   \n3                     241.0         811.0  ...                          No   \n4                     241.0         791.0  ...                          No   \n...                     ...           ...  ...                         ...   \n16867535              386.0         792.0  ...                          No   \n16867536              377.5         205.5  ...                          No   \n16867537               13.0           0.0  ...                          No   \n16867538              103.0         183.0  ...                          No   \n16867539                3.0         392.5  ...                          No   \n\n          anomaly_RS_T_OilTemp_PC1  anomaly_RS_E_OilPress_PC1  \\\n0                               No                         No   \n1                               No                         No   \n2                               No                         No   \n3                               No                         No   \n4                               No                         No   \n...                            ...                        ...   \n16867535                       Yes                         No   \n16867536                       Yes                         No   \n16867537                       Yes                         No   \n16867538                       Yes                         No   \n16867539                        No                         No   \n\n          anomaly_RS_E_RPM_PC1  anomaly_RS_E_WatTemp_PC1  \\\n0                           No                        No   \n1                           No                        No   \n2                           No                        No   \n3                           No                        No   \n4                           No                        No   \n...                        ...                       ...   \n16867535                    No                       Yes   \n16867536                    No                       Yes   \n16867537                    No                       Yes   \n16867538                    No                       Yes   \n16867539                    No                        No   \n\n         anomaly_RS_E_InAirTemp_PC2 anomaly_RS_T_OilTemp_PC2  \\\n0                                No                       No   \n1                                No                       No   \n2                                No                       No   \n3                                No                       No   \n4                                No                       No   \n...                             ...                      ...   \n16867535                         No                      Yes   \n16867536                         No                      Yes   \n16867537                         No                      Yes   \n16867538                         No                      Yes   \n16867539                         No                       No   \n\n          anomaly_RS_E_OilPress_PC2 anomaly_RS_E_RPM_PC2  \\\n0                                No                   No   \n1                                No                   No   \n2                                No                   No   \n3                                No                   No   \n4                                No                   No   \n...                             ...                  ...   \n16867535                         No                   No   \n16867536                         No                   No   \n16867537                         No                   No   \n16867538                         No                   No   \n16867539                         No                   No   \n\n          anomaly_RS_E_WatTemp_PC2  \n0                               No  \n1                               No  \n2                               No  \n3                               No  \n4                               No  \n...                            ...  \n16867535                       Yes  \n16867536                       Yes  \n16867537                       Yes  \n16867538                       Yes  \n16867539                        No  \n\n[16867540 rows x 30 columns]",
      "text/html": "<div>\n<style scoped>\n    .dataframe tbody tr th:only-of-type {\n        vertical-align: middle;\n    }\n\n    .dataframe tbody tr th {\n        vertical-align: top;\n    }\n\n    .dataframe thead th {\n        text-align: right;\n    }\n</style>\n<table border=\"1\" class=\"dataframe\">\n  <thead>\n    <tr style=\"text-align: right;\">\n      <th></th>\n      <th>Unnamed: 0</th>\n      <th>mapped_veh_id</th>\n      <th>timestamps_UTC</th>\n      <th>lat</th>\n      <th>lon</th>\n      <th>RS_E_InAirTemp_PC1</th>\n      <th>RS_E_InAirTemp_PC2</th>\n      <th>RS_E_OilPress_PC1</th>\n      <th>RS_E_OilPress_PC2</th>\n      <th>RS_E_RPM_PC1</th>\n      <th>...</th>\n      <th>anomaly_RS_E_InAirTemp_PC1</th>\n      <th>anomaly_RS_T_OilTemp_PC1</th>\n      <th>anomaly_RS_E_OilPress_PC1</th>\n      <th>anomaly_RS_E_RPM_PC1</th>\n      <th>anomaly_RS_E_WatTemp_PC1</th>\n      <th>anomaly_RS_E_InAirTemp_PC2</th>\n      <th>anomaly_RS_T_OilTemp_PC2</th>\n      <th>anomaly_RS_E_OilPress_PC2</th>\n      <th>anomaly_RS_E_RPM_PC2</th>\n      <th>anomaly_RS_E_WatTemp_PC2</th>\n    </tr>\n  </thead>\n  <tbody>\n    <tr>\n      <th>0</th>\n      <td>0</td>\n      <td>181.0</td>\n      <td>2023-01-23 08:28:54</td>\n      <td>51.040004</td>\n      <td>3.692637</td>\n      <td>13</td>\n      <td>11</td>\n      <td>269.0</td>\n      <td>241.0</td>\n      <td>798.0</td>\n      <td>...</td>\n      <td>No</td>\n      <td>No</td>\n      <td>No</td>\n      <td>No</td>\n      <td>No</td>\n      <td>No</td>\n      <td>No</td>\n      <td>No</td>\n      <td>No</td>\n      <td>No</td>\n    </tr>\n    <tr>\n      <th>1</th>\n      <td>1</td>\n      <td>181.0</td>\n      <td>2023-01-23 08:29:48</td>\n      <td>51.039857</td>\n      <td>3.693306</td>\n      <td>13</td>\n      <td>12</td>\n      <td>265.0</td>\n      <td>238.0</td>\n      <td>801.0</td>\n      <td>...</td>\n      <td>No</td>\n      <td>No</td>\n      <td>No</td>\n      <td>No</td>\n      <td>No</td>\n      <td>No</td>\n      <td>No</td>\n      <td>No</td>\n      <td>No</td>\n      <td>No</td>\n    </tr>\n    <tr>\n      <th>2</th>\n      <td>2</td>\n      <td>181.0</td>\n      <td>2023-01-23 08:29:54</td>\n      <td>51.040017</td>\n      <td>3.692645</td>\n      <td>13</td>\n      <td>12</td>\n      <td>265.0</td>\n      <td>248.0</td>\n      <td>798.0</td>\n      <td>...</td>\n      <td>No</td>\n      <td>No</td>\n      <td>No</td>\n      <td>No</td>\n      <td>No</td>\n      <td>No</td>\n      <td>No</td>\n      <td>No</td>\n      <td>No</td>\n      <td>No</td>\n    </tr>\n    <tr>\n      <th>3</th>\n      <td>3</td>\n      <td>181.0</td>\n      <td>2023-01-23 08:30:48</td>\n      <td>51.039853</td>\n      <td>3.693292</td>\n      <td>13</td>\n      <td>12</td>\n      <td>272.0</td>\n      <td>241.0</td>\n      <td>811.0</td>\n      <td>...</td>\n      <td>No</td>\n      <td>No</td>\n      <td>No</td>\n      <td>No</td>\n      <td>No</td>\n      <td>No</td>\n      <td>No</td>\n      <td>No</td>\n      <td>No</td>\n      <td>No</td>\n    </tr>\n    <tr>\n      <th>4</th>\n      <td>4</td>\n      <td>181.0</td>\n      <td>2023-01-23 08:30:55</td>\n      <td>51.039999</td>\n      <td>3.692651</td>\n      <td>13</td>\n      <td>12</td>\n      <td>269.0</td>\n      <td>241.0</td>\n      <td>791.0</td>\n      <td>...</td>\n      <td>No</td>\n      <td>No</td>\n      <td>No</td>\n      <td>No</td>\n      <td>No</td>\n      <td>No</td>\n      <td>No</td>\n      <td>No</td>\n      <td>No</td>\n      <td>No</td>\n    </tr>\n    <tr>\n      <th>...</th>\n      <td>...</td>\n      <td>...</td>\n      <td>...</td>\n      <td>...</td>\n      <td>...</td>\n      <td>...</td>\n      <td>...</td>\n      <td>...</td>\n      <td>...</td>\n      <td>...</td>\n      <td>...</td>\n      <td>...</td>\n      <td>...</td>\n      <td>...</td>\n      <td>...</td>\n      <td>...</td>\n      <td>...</td>\n      <td>...</td>\n      <td>...</td>\n      <td>...</td>\n      <td>...</td>\n    </tr>\n    <tr>\n      <th>16867535</th>\n      <td>16867535</td>\n      <td>196.0</td>\n      <td>2023-09-04 00:27:36</td>\n      <td>50.420024</td>\n      <td>4.534313</td>\n      <td>27</td>\n      <td>27</td>\n      <td>386.0</td>\n      <td>386.0</td>\n      <td>792.0</td>\n      <td>...</td>\n      <td>No</td>\n      <td>Yes</td>\n      <td>No</td>\n      <td>No</td>\n      <td>Yes</td>\n      <td>No</td>\n      <td>Yes</td>\n      <td>No</td>\n      <td>No</td>\n      <td>Yes</td>\n    </tr>\n    <tr>\n      <th>16867536</th>\n      <td>16867536</td>\n      <td>196.0</td>\n      <td>2023-09-04 00:27:56</td>\n      <td>50.420183</td>\n      <td>4.534716</td>\n      <td>24</td>\n      <td>25</td>\n      <td>517.5</td>\n      <td>377.5</td>\n      <td>205.5</td>\n      <td>...</td>\n      <td>No</td>\n      <td>Yes</td>\n      <td>No</td>\n      <td>No</td>\n      <td>Yes</td>\n      <td>No</td>\n      <td>Yes</td>\n      <td>No</td>\n      <td>No</td>\n      <td>Yes</td>\n    </tr>\n    <tr>\n      <th>16867537</th>\n      <td>16867537</td>\n      <td>196.0</td>\n      <td>2023-09-08 09:40:09</td>\n      <td>50.420775</td>\n      <td>4.536776</td>\n      <td>42</td>\n      <td>42</td>\n      <td>13.0</td>\n      <td>13.0</td>\n      <td>0.0</td>\n      <td>...</td>\n      <td>No</td>\n      <td>Yes</td>\n      <td>No</td>\n      <td>No</td>\n      <td>Yes</td>\n      <td>No</td>\n      <td>Yes</td>\n      <td>No</td>\n      <td>No</td>\n      <td>Yes</td>\n    </tr>\n    <tr>\n      <th>16867538</th>\n      <td>16867538</td>\n      <td>196.0</td>\n      <td>2023-09-08 09:40:15</td>\n      <td>50.420509</td>\n      <td>4.536249</td>\n      <td>42</td>\n      <td>42</td>\n      <td>103.0</td>\n      <td>103.0</td>\n      <td>183.0</td>\n      <td>...</td>\n      <td>No</td>\n      <td>Yes</td>\n      <td>No</td>\n      <td>No</td>\n      <td>Yes</td>\n      <td>No</td>\n      <td>Yes</td>\n      <td>No</td>\n      <td>No</td>\n      <td>Yes</td>\n    </tr>\n    <tr>\n      <th>16867539</th>\n      <td>16867539</td>\n      <td>196.0</td>\n      <td>2023-09-13 01:28:20</td>\n      <td>50.093853</td>\n      <td>4.528850</td>\n      <td>44</td>\n      <td>49</td>\n      <td>345.0</td>\n      <td>3.0</td>\n      <td>392.5</td>\n      <td>...</td>\n      <td>No</td>\n      <td>No</td>\n      <td>No</td>\n      <td>No</td>\n      <td>No</td>\n      <td>No</td>\n      <td>No</td>\n      <td>No</td>\n      <td>No</td>\n      <td>No</td>\n    </tr>\n  </tbody>\n</table>\n<p>16867540 rows × 30 columns</p>\n</div>"
     },
     "execution_count": 8,
     "metadata": {},
     "output_type": "execute_result"
    }
   ],
   "source": [
    "dff = pd.read_csv('anomalies.csv', sep=';')\n",
    "dff"
   ],
   "metadata": {
    "collapsed": false
   }
  },
  {
   "cell_type": "code",
   "execution_count": 3,
   "metadata": {},
   "outputs": [
    {
     "data": {
      "text/plain": "       timestamps_UTC  mapped_veh_id  RS_E_InAirTemp_PC1  RS_T_OilTemp_PC1  \\\n0 2023-08-01 03:44:12          181.0                  27              76.0   \n1 2023-08-01 06:36:29          143.0                  33              73.0   \n2 2023-08-24 06:53:54          183.0                  31              85.0   \n3 2023-08-01 13:53:38          177.0                  35              78.0   \n4 2023-08-24 07:02:30          143.0                  41              82.0   \n\n   RS_E_OilPress_PC1  RS_E_RPM_PC1  RS_E_WatTemp_PC1  speed  outside_temp  \n0              255.0         794.0              83.0      3          15.4  \n1              272.0         802.0              78.0     21          16.6  \n2              234.0         799.0              82.0      2          18.7  \n3              220.0         794.0              77.0     54          19.4  \n4              227.0         806.0              85.0      2          18.7  ",
      "text/html": "<div>\n<style scoped>\n    .dataframe tbody tr th:only-of-type {\n        vertical-align: middle;\n    }\n\n    .dataframe tbody tr th {\n        vertical-align: top;\n    }\n\n    .dataframe thead th {\n        text-align: right;\n    }\n</style>\n<table border=\"1\" class=\"dataframe\">\n  <thead>\n    <tr style=\"text-align: right;\">\n      <th></th>\n      <th>timestamps_UTC</th>\n      <th>mapped_veh_id</th>\n      <th>RS_E_InAirTemp_PC1</th>\n      <th>RS_T_OilTemp_PC1</th>\n      <th>RS_E_OilPress_PC1</th>\n      <th>RS_E_RPM_PC1</th>\n      <th>RS_E_WatTemp_PC1</th>\n      <th>speed</th>\n      <th>outside_temp</th>\n    </tr>\n  </thead>\n  <tbody>\n    <tr>\n      <th>0</th>\n      <td>2023-08-01 03:44:12</td>\n      <td>181.0</td>\n      <td>27</td>\n      <td>76.0</td>\n      <td>255.0</td>\n      <td>794.0</td>\n      <td>83.0</td>\n      <td>3</td>\n      <td>15.4</td>\n    </tr>\n    <tr>\n      <th>1</th>\n      <td>2023-08-01 06:36:29</td>\n      <td>143.0</td>\n      <td>33</td>\n      <td>73.0</td>\n      <td>272.0</td>\n      <td>802.0</td>\n      <td>78.0</td>\n      <td>21</td>\n      <td>16.6</td>\n    </tr>\n    <tr>\n      <th>2</th>\n      <td>2023-08-24 06:53:54</td>\n      <td>183.0</td>\n      <td>31</td>\n      <td>85.0</td>\n      <td>234.0</td>\n      <td>799.0</td>\n      <td>82.0</td>\n      <td>2</td>\n      <td>18.7</td>\n    </tr>\n    <tr>\n      <th>3</th>\n      <td>2023-08-01 13:53:38</td>\n      <td>177.0</td>\n      <td>35</td>\n      <td>78.0</td>\n      <td>220.0</td>\n      <td>794.0</td>\n      <td>77.0</td>\n      <td>54</td>\n      <td>19.4</td>\n    </tr>\n    <tr>\n      <th>4</th>\n      <td>2023-08-24 07:02:30</td>\n      <td>143.0</td>\n      <td>41</td>\n      <td>82.0</td>\n      <td>227.0</td>\n      <td>806.0</td>\n      <td>85.0</td>\n      <td>2</td>\n      <td>18.7</td>\n    </tr>\n  </tbody>\n</table>\n</div>"
     },
     "execution_count": 3,
     "metadata": {},
     "output_type": "execute_result"
    }
   ],
   "source": [
    "dataset_adapted = df[[\"timestamps_UTC\",'mapped_veh_id','RS_E_InAirTemp_PC1',\"RS_T_OilTemp_PC1\",\"RS_E_OilPress_PC1\",\"RS_E_RPM_PC1\",\"RS_E_WatTemp_PC1\",\"speed\",\"outside_temp\"]]\n",
    "dataset_adapted.head()"
   ]
  },
  {
   "cell_type": "code",
   "execution_count": null,
   "outputs": [],
   "source": [
    "selected_column = ['RS_E_InAirTemp_PC1',\"RS_T_OilTemp_PC1\",\"RS_E_OilPress_PC1\",\"RS_E_RPM_PC1\",\"RS_E_WatTemp_PC1\"]\n",
    "anomalies_df = pd.DataFrame()\n",
    "\n",
    "for veh_id in df['mapped_veh_id'].unique():\n",
    "    print(veh_id)\n",
    "    veh_anomalies = df[df['mapped_veh_id'] == veh_id]\n",
    "    veh_anomalies = veh_anomalies.sort_values('timestamps_UTC')\n",
    "    veh_anomalies = pd.DataFrame(veh_anomalies)\n",
    "    for col in selected_column:\n",
    "        dataset_adapted = df[[\"timestamps_UTC\",'mapped_veh_id','RS_E_InAirTemp_PC1',\"RS_T_OilTemp_PC1\",\"RS_E_OilPress_PC1\",\"RS_E_RPM_PC1\",\"RS_E_WatTemp_PC1\",\"speed\",\"outside_temp\"]]\n",
    "        dataset_adapted = dataset_adapted.rename(columns={'timestamps_UTC': 'ds',col:'y'})\n",
    "        model = Prophet()\n",
    "        for col_reg in dataset_adapted.columns:\n",
    "            if col_reg != \"ds\" and col_reg != \"mapped_veh_id\" and col_reg != \"y\":\n",
    "                model.add_regressor(col_reg)\n",
    "\n",
    "        # train\n",
    "        train_veh = dataset_adapted[dataset_adapted['mapped_veh_id'] == veh_id].sort_values('ds')\n",
    "        train_veh.drop(columns='mapped_veh_id')\n",
    "        model.fit(train_veh)\n",
    "\n",
    "        # predict\n",
    "        future = model.make_future_dataframe(periods=0) # predict on the entire dataset\n",
    "        for col_reg in dataset_adapted.columns:\n",
    "            if col_reg != \"ds\" and col_reg != \"mapped_veh_id\" and col_reg != \"y\":\n",
    "                future[col_reg] = train_veh[col_reg].reset_index(drop = True)\n",
    "        forecast = model.predict(future)\n",
    "\n",
    "        forecast['y'] = train_veh['y'].reset_index(drop = True)\n",
    "        forecast['error'] = forecast['y'] - forecast['yhat']\n",
    "        forecast['uncertainity'] = forecast['yhat_upper'] - forecast['yhat_lower']\n",
    "        threshold  = 2\n",
    "        forecast['anomaly'] = forecast.apply(lambda x: 'Yes' if ( np.abs(x['error']) > threshold * x['uncertainity'] ) else 'No', axis=1)\n",
    "        veh_anomalies[f\"anomaly_{col}\"] = np.array(forecast['anomaly'])\n",
    "    anomalies_df = pd.concat([anomalies_df, veh_anomalies])\n",
    "        # fig = px.scatter(forecast.reset_index(), x='ds', y='y', color='anomaly', title='SNCB outliers')\n",
    "        # fig.update_xaxes(rangeslider_visible=True,\n",
    "        #                 rangeselector=dict(buttons=list([\n",
    "        #                     dict(count=1, label='Ja+\n",
    "    #                     nuary', step='month', stepmode='backward'),\n",
    "        #                     dict(count=2, label='February', step='month', stepmode='backward'),\n",
    "        #                     dict(count=3, label='March', step='month', stepmode='backward'),\n",
    "        #                     dict(step='all')\n",
    "        #                 ])))\n",
    "        # fig.write_html(f\"./plot/timeseries_anomalies_veh{int(veh_id)}.html\")"
   ],
   "metadata": {
    "collapsed": false
   }
  },
  {
   "cell_type": "code",
   "execution_count": 2,
   "outputs": [],
   "source": [
    "df = pd.read_csv('../anomalies.csv', sep=';')"
   ],
   "metadata": {
    "collapsed": false
   }
  },
  {
   "cell_type": "code",
   "execution_count": null,
   "outputs": [],
   "source": [
    "selected_column = ['RS_E_InAirTemp_PC2',\"RS_T_OilTemp_PC2\",\"RS_E_OilPress_PC2\",\"RS_E_RPM_PC2\",\"RS_E_WatTemp_PC2\"]\n",
    "anomalies_df = pd.DataFrame()\n",
    "\n",
    "for veh_id in df['mapped_veh_id'].unique():\n",
    "    veh_anomalies = df[df['mapped_veh_id'] == veh_id]\n",
    "    veh_anomalies = veh_anomalies.sort_values('timestamps_UTC')\n",
    "    veh_anomalies = pd.DataFrame(veh_anomalies)\n",
    "    for col in selected_column:\n",
    "        dataset_adapted = df[[\"timestamps_UTC\",'mapped_veh_id','RS_E_InAirTemp_PC2',\"RS_T_OilTemp_PC2\",\n",
    "                              \"RS_E_OilPress_PC2\",\"RS_E_RPM_PC2\",\"RS_E_WatTemp_PC2\",\"speed\",\"outside_temp\"]]\n",
    "        dataset_adapted = dataset_adapted.rename(columns={'timestamps_UTC': 'ds',col:'y'})\n",
    "        model = Prophet()\n",
    "        for col_reg in dataset_adapted.columns:\n",
    "            if col_reg != \"ds\" and col_reg != \"mapped_veh_id\" and col_reg != \"y\":\n",
    "                model.add_regressor(col_reg)\n",
    "\n",
    "        # train\n",
    "        train_veh = dataset_adapted[dataset_adapted['mapped_veh_id'] == veh_id].sort_values('ds')\n",
    "        train_veh.drop(columns='mapped_veh_id')\n",
    "        model.fit(train_veh)\n",
    "\n",
    "        # predict\n",
    "        future = model.make_future_dataframe(periods=0) # predict on the entire dataset\n",
    "        for col_reg in dataset_adapted.columns:\n",
    "            if col_reg != \"ds\" and col_reg != \"mapped_veh_id\" and col_reg != \"y\":\n",
    "                future[col_reg] = train_veh[col_reg].reset_index(drop = True)\n",
    "\n",
    "        forecast = model.predict(future)\n",
    "        forecast['y'] = train_veh['y'].reset_index(drop = True)\n",
    "        forecast['error'] = forecast['y'] - forecast['yhat']\n",
    "        forecast['uncertainity'] = forecast['yhat_upper'] - forecast['yhat_lower']\n",
    "        threshold  = 2\n",
    "        forecast['anomaly'] = forecast.apply(lambda x: 'Yes' if ( np.abs(x['error']) > threshold * x['uncertainity'] ) else 'No', axis=1)\n",
    "        veh_anomalies[f\"anomaly_{col}\"] = np.array(forecast['anomaly'])\n",
    "\n",
    "\n",
    "    anomalies_df = pd.concat([anomalies_df, veh_anomalies])\n"
   ],
   "metadata": {
    "collapsed": false
   }
  },
  {
   "cell_type": "code",
   "execution_count": 7,
   "outputs": [
    {
     "data": {
      "text/plain": "          mapped_veh_id       timestamps_UTC        lat       lon  \\\n0                 181.0  2023-01-23 08:28:54  51.040004  3.692637   \n1                 181.0  2023-01-23 08:29:48  51.039857  3.693306   \n2                 181.0  2023-01-23 08:29:54  51.040017  3.692645   \n3                 181.0  2023-01-23 08:30:48  51.039853  3.693292   \n4                 181.0  2023-01-23 08:30:55  51.039999  3.692651   \n...                 ...                  ...        ...       ...   \n16867535          196.0  2023-09-04 00:27:36  50.420024  4.534313   \n16867536          196.0  2023-09-04 00:27:56  50.420183  4.534716   \n16867537          196.0  2023-09-08 09:40:09  50.420775  4.536776   \n16867538          196.0  2023-09-08 09:40:15  50.420509  4.536249   \n16867539          196.0  2023-09-13 01:28:20  50.093853  4.528850   \n\n          RS_E_InAirTemp_PC1  RS_E_InAirTemp_PC2  RS_E_OilPress_PC1  \\\n0                         13                  11              269.0   \n1                         13                  12              265.0   \n2                         13                  12              265.0   \n3                         13                  12              272.0   \n4                         13                  12              269.0   \n...                      ...                 ...                ...   \n16867535                  27                  27              386.0   \n16867536                  24                  25              517.5   \n16867537                  42                  42               13.0   \n16867538                  42                  42              103.0   \n16867539                  44                  49              345.0   \n\n          RS_E_OilPress_PC2  RS_E_RPM_PC1  RS_E_RPM_PC2  ...  \\\n0                     241.0         798.0         799.0  ...   \n1                     238.0         801.0         799.0  ...   \n2                     248.0         798.0         799.0  ...   \n3                     241.0         811.0         799.0  ...   \n4                     241.0         791.0         798.0  ...   \n...                     ...           ...           ...  ...   \n16867535              386.0         792.0         792.0  ...   \n16867536              377.5         205.5         798.0  ...   \n16867537               13.0           0.0           0.0  ...   \n16867538              103.0         183.0         183.0  ...   \n16867539                3.0         392.5         392.5  ...   \n\n          anomaly_RS_E_InAirTemp_PC1  anomaly_RS_T_OilTemp_PC1  \\\n0                                 No                        No   \n1                                 No                        No   \n2                                 No                        No   \n3                                 No                        No   \n4                                 No                        No   \n...                              ...                       ...   \n16867535                          No                       Yes   \n16867536                          No                       Yes   \n16867537                          No                       Yes   \n16867538                          No                       Yes   \n16867539                          No                        No   \n\n          anomaly_RS_E_OilPress_PC1  anomaly_RS_E_RPM_PC1  \\\n0                                No                    No   \n1                                No                    No   \n2                                No                    No   \n3                                No                    No   \n4                                No                    No   \n...                             ...                   ...   \n16867535                         No                    No   \n16867536                         No                    No   \n16867537                         No                    No   \n16867538                         No                    No   \n16867539                         No                    No   \n\n         anomaly_RS_E_WatTemp_PC1 anomaly_RS_E_InAirTemp_PC2  \\\n0                              No                         No   \n1                              No                         No   \n2                              No                         No   \n3                              No                         No   \n4                              No                         No   \n...                           ...                        ...   \n16867535                      Yes                         No   \n16867536                      Yes                         No   \n16867537                      Yes                         No   \n16867538                      Yes                         No   \n16867539                       No                         No   \n\n          anomaly_RS_T_OilTemp_PC2 anomaly_RS_E_OilPress_PC2  \\\n0                               No                        No   \n1                               No                        No   \n2                               No                        No   \n3                               No                        No   \n4                               No                        No   \n...                            ...                       ...   \n16867535                       Yes                        No   \n16867536                       Yes                        No   \n16867537                       Yes                        No   \n16867538                       Yes                        No   \n16867539                        No                        No   \n\n          anomaly_RS_E_RPM_PC2 anomaly_RS_E_WatTemp_PC2  \n0                           No                       No  \n1                           No                       No  \n2                           No                       No  \n3                           No                       No  \n4                           No                       No  \n...                        ...                      ...  \n16867535                    No                      Yes  \n16867536                    No                      Yes  \n16867537                    No                      Yes  \n16867538                    No                      Yes  \n16867539                    No                       No  \n\n[16867540 rows x 29 columns]",
      "text/html": "<div>\n<style scoped>\n    .dataframe tbody tr th:only-of-type {\n        vertical-align: middle;\n    }\n\n    .dataframe tbody tr th {\n        vertical-align: top;\n    }\n\n    .dataframe thead th {\n        text-align: right;\n    }\n</style>\n<table border=\"1\" class=\"dataframe\">\n  <thead>\n    <tr style=\"text-align: right;\">\n      <th></th>\n      <th>mapped_veh_id</th>\n      <th>timestamps_UTC</th>\n      <th>lat</th>\n      <th>lon</th>\n      <th>RS_E_InAirTemp_PC1</th>\n      <th>RS_E_InAirTemp_PC2</th>\n      <th>RS_E_OilPress_PC1</th>\n      <th>RS_E_OilPress_PC2</th>\n      <th>RS_E_RPM_PC1</th>\n      <th>RS_E_RPM_PC2</th>\n      <th>...</th>\n      <th>anomaly_RS_E_InAirTemp_PC1</th>\n      <th>anomaly_RS_T_OilTemp_PC1</th>\n      <th>anomaly_RS_E_OilPress_PC1</th>\n      <th>anomaly_RS_E_RPM_PC1</th>\n      <th>anomaly_RS_E_WatTemp_PC1</th>\n      <th>anomaly_RS_E_InAirTemp_PC2</th>\n      <th>anomaly_RS_T_OilTemp_PC2</th>\n      <th>anomaly_RS_E_OilPress_PC2</th>\n      <th>anomaly_RS_E_RPM_PC2</th>\n      <th>anomaly_RS_E_WatTemp_PC2</th>\n    </tr>\n  </thead>\n  <tbody>\n    <tr>\n      <th>0</th>\n      <td>181.0</td>\n      <td>2023-01-23 08:28:54</td>\n      <td>51.040004</td>\n      <td>3.692637</td>\n      <td>13</td>\n      <td>11</td>\n      <td>269.0</td>\n      <td>241.0</td>\n      <td>798.0</td>\n      <td>799.0</td>\n      <td>...</td>\n      <td>No</td>\n      <td>No</td>\n      <td>No</td>\n      <td>No</td>\n      <td>No</td>\n      <td>No</td>\n      <td>No</td>\n      <td>No</td>\n      <td>No</td>\n      <td>No</td>\n    </tr>\n    <tr>\n      <th>1</th>\n      <td>181.0</td>\n      <td>2023-01-23 08:29:48</td>\n      <td>51.039857</td>\n      <td>3.693306</td>\n      <td>13</td>\n      <td>12</td>\n      <td>265.0</td>\n      <td>238.0</td>\n      <td>801.0</td>\n      <td>799.0</td>\n      <td>...</td>\n      <td>No</td>\n      <td>No</td>\n      <td>No</td>\n      <td>No</td>\n      <td>No</td>\n      <td>No</td>\n      <td>No</td>\n      <td>No</td>\n      <td>No</td>\n      <td>No</td>\n    </tr>\n    <tr>\n      <th>2</th>\n      <td>181.0</td>\n      <td>2023-01-23 08:29:54</td>\n      <td>51.040017</td>\n      <td>3.692645</td>\n      <td>13</td>\n      <td>12</td>\n      <td>265.0</td>\n      <td>248.0</td>\n      <td>798.0</td>\n      <td>799.0</td>\n      <td>...</td>\n      <td>No</td>\n      <td>No</td>\n      <td>No</td>\n      <td>No</td>\n      <td>No</td>\n      <td>No</td>\n      <td>No</td>\n      <td>No</td>\n      <td>No</td>\n      <td>No</td>\n    </tr>\n    <tr>\n      <th>3</th>\n      <td>181.0</td>\n      <td>2023-01-23 08:30:48</td>\n      <td>51.039853</td>\n      <td>3.693292</td>\n      <td>13</td>\n      <td>12</td>\n      <td>272.0</td>\n      <td>241.0</td>\n      <td>811.0</td>\n      <td>799.0</td>\n      <td>...</td>\n      <td>No</td>\n      <td>No</td>\n      <td>No</td>\n      <td>No</td>\n      <td>No</td>\n      <td>No</td>\n      <td>No</td>\n      <td>No</td>\n      <td>No</td>\n      <td>No</td>\n    </tr>\n    <tr>\n      <th>4</th>\n      <td>181.0</td>\n      <td>2023-01-23 08:30:55</td>\n      <td>51.039999</td>\n      <td>3.692651</td>\n      <td>13</td>\n      <td>12</td>\n      <td>269.0</td>\n      <td>241.0</td>\n      <td>791.0</td>\n      <td>798.0</td>\n      <td>...</td>\n      <td>No</td>\n      <td>No</td>\n      <td>No</td>\n      <td>No</td>\n      <td>No</td>\n      <td>No</td>\n      <td>No</td>\n      <td>No</td>\n      <td>No</td>\n      <td>No</td>\n    </tr>\n    <tr>\n      <th>...</th>\n      <td>...</td>\n      <td>...</td>\n      <td>...</td>\n      <td>...</td>\n      <td>...</td>\n      <td>...</td>\n      <td>...</td>\n      <td>...</td>\n      <td>...</td>\n      <td>...</td>\n      <td>...</td>\n      <td>...</td>\n      <td>...</td>\n      <td>...</td>\n      <td>...</td>\n      <td>...</td>\n      <td>...</td>\n      <td>...</td>\n      <td>...</td>\n      <td>...</td>\n      <td>...</td>\n    </tr>\n    <tr>\n      <th>16867535</th>\n      <td>196.0</td>\n      <td>2023-09-04 00:27:36</td>\n      <td>50.420024</td>\n      <td>4.534313</td>\n      <td>27</td>\n      <td>27</td>\n      <td>386.0</td>\n      <td>386.0</td>\n      <td>792.0</td>\n      <td>792.0</td>\n      <td>...</td>\n      <td>No</td>\n      <td>Yes</td>\n      <td>No</td>\n      <td>No</td>\n      <td>Yes</td>\n      <td>No</td>\n      <td>Yes</td>\n      <td>No</td>\n      <td>No</td>\n      <td>Yes</td>\n    </tr>\n    <tr>\n      <th>16867536</th>\n      <td>196.0</td>\n      <td>2023-09-04 00:27:56</td>\n      <td>50.420183</td>\n      <td>4.534716</td>\n      <td>24</td>\n      <td>25</td>\n      <td>517.5</td>\n      <td>377.5</td>\n      <td>205.5</td>\n      <td>798.0</td>\n      <td>...</td>\n      <td>No</td>\n      <td>Yes</td>\n      <td>No</td>\n      <td>No</td>\n      <td>Yes</td>\n      <td>No</td>\n      <td>Yes</td>\n      <td>No</td>\n      <td>No</td>\n      <td>Yes</td>\n    </tr>\n    <tr>\n      <th>16867537</th>\n      <td>196.0</td>\n      <td>2023-09-08 09:40:09</td>\n      <td>50.420775</td>\n      <td>4.536776</td>\n      <td>42</td>\n      <td>42</td>\n      <td>13.0</td>\n      <td>13.0</td>\n      <td>0.0</td>\n      <td>0.0</td>\n      <td>...</td>\n      <td>No</td>\n      <td>Yes</td>\n      <td>No</td>\n      <td>No</td>\n      <td>Yes</td>\n      <td>No</td>\n      <td>Yes</td>\n      <td>No</td>\n      <td>No</td>\n      <td>Yes</td>\n    </tr>\n    <tr>\n      <th>16867538</th>\n      <td>196.0</td>\n      <td>2023-09-08 09:40:15</td>\n      <td>50.420509</td>\n      <td>4.536249</td>\n      <td>42</td>\n      <td>42</td>\n      <td>103.0</td>\n      <td>103.0</td>\n      <td>183.0</td>\n      <td>183.0</td>\n      <td>...</td>\n      <td>No</td>\n      <td>Yes</td>\n      <td>No</td>\n      <td>No</td>\n      <td>Yes</td>\n      <td>No</td>\n      <td>Yes</td>\n      <td>No</td>\n      <td>No</td>\n      <td>Yes</td>\n    </tr>\n    <tr>\n      <th>16867539</th>\n      <td>196.0</td>\n      <td>2023-09-13 01:28:20</td>\n      <td>50.093853</td>\n      <td>4.528850</td>\n      <td>44</td>\n      <td>49</td>\n      <td>345.0</td>\n      <td>3.0</td>\n      <td>392.5</td>\n      <td>392.5</td>\n      <td>...</td>\n      <td>No</td>\n      <td>No</td>\n      <td>No</td>\n      <td>No</td>\n      <td>No</td>\n      <td>No</td>\n      <td>No</td>\n      <td>No</td>\n      <td>No</td>\n      <td>No</td>\n    </tr>\n  </tbody>\n</table>\n<p>16867540 rows × 29 columns</p>\n</div>"
     },
     "execution_count": 7,
     "metadata": {},
     "output_type": "execute_result"
    }
   ],
   "source": [
    "anomalies_df"
   ],
   "metadata": {
    "collapsed": false
   }
  },
  {
   "cell_type": "code",
   "execution_count": 5,
   "outputs": [],
   "source": [
    "anomalies_df = anomalies_df.drop(columns='Unnamed: 0')"
   ],
   "metadata": {
    "collapsed": false
   }
  },
  {
   "cell_type": "code",
   "execution_count": 6,
   "outputs": [],
   "source": [
    "anomalies_df.to_csv('anomalies.csv',sep=';')"
   ],
   "metadata": {
    "collapsed": false
   }
  },
  {
   "cell_type": "code",
   "execution_count": 2,
   "outputs": [],
   "source": [
    "anomalies_df = pd.read_csv('anomalies.csv', sep=';')"
   ],
   "metadata": {
    "collapsed": false
   }
  },
  {
   "cell_type": "code",
   "execution_count": 5,
   "outputs": [
    {
     "data": {
      "text/plain": "16867540"
     },
     "execution_count": 5,
     "metadata": {},
     "output_type": "execute_result"
    }
   ],
   "source": [
    "len(anomalies_df)"
   ],
   "metadata": {
    "collapsed": false
   }
  },
  {
   "cell_type": "code",
   "execution_count": 11,
   "outputs": [],
   "source": [
    "anomalies_df = anomalies_df.drop(columns=['Unnamed: 0','Unnamed: 0.1'])"
   ],
   "metadata": {
    "collapsed": false
   }
  },
  {
   "cell_type": "code",
   "execution_count": 13,
   "outputs": [
    {
     "data": {
      "text/plain": "         mapped_veh_id       timestamps_UTC        lat       lon  \\\n2662100          182.0  2023-01-23 08:24:04  51.035656  3.710717   \n2662101          182.0  2023-01-23 08:24:56  51.035410  3.711797   \n2662102          182.0  2023-01-23 08:25:57  51.035407  3.711814   \n2662103          182.0  2023-01-23 08:30:00  51.035400  3.711835   \n2662104          182.0  2023-01-23 08:31:00  51.035399  3.711808   \n...                ...                  ...        ...       ...   \n2792964          182.0  2023-09-13 16:24:15  50.768640  3.870845   \n2792965          182.0  2023-09-13 16:25:16  50.771994  3.872430   \n2792966          182.0  2023-09-13 16:26:16  50.774384  3.872867   \n2792967          182.0  2023-09-13 16:26:37  50.774389  3.872878   \n2792968          182.0  2023-09-13 16:27:16  50.774376  3.872856   \n\n         RS_E_InAirTemp_PC1  RS_E_InAirTemp_PC2  RS_E_OilPress_PC1  \\\n2662100                  16                   9              207.0   \n2662101                  16                   8              210.0   \n2662102                  17                   8              210.0   \n2662103                  17                   7              217.0   \n2662104                  16                   7              220.0   \n...                     ...                 ...                ...   \n2792964                  31                  36              179.0   \n2792965                  33                  35              179.0   \n2792966                  33                  35              179.0   \n2792967                  35                  35               17.0   \n2792968                  40                  42                3.0   \n\n         RS_E_OilPress_PC2  RS_E_RPM_PC1  RS_E_RPM_PC2  ...  \\\n2662100              224.0         806.0         799.0  ...   \n2662101              224.0         797.0         799.0  ...   \n2662102              224.0         798.0         798.0  ...   \n2662103              227.0         802.0         799.0  ...   \n2662104              231.0         801.0         802.0  ...   \n...                    ...           ...           ...  ...   \n2792964              179.0         803.0         801.0  ...   \n2792965              175.0         799.0         800.0  ...   \n2792966              179.0         799.0         799.0  ...   \n2792967               51.0         142.0         142.0  ...   \n2792968                3.0           0.0           0.0  ...   \n\n               station_name    province_name  outside_temp        weather  \\\n2662100  Ghent Sint Pieters  Oost-Vlaanderen           1.7  Broken clouds   \n2662101  Ghent Sint Pieters  Oost-Vlaanderen           1.7  Broken clouds   \n2662102  Ghent Sint Pieters  Oost-Vlaanderen           1.7  Broken clouds   \n2662103  Ghent Sint Pieters  Oost-Vlaanderen           1.7  Broken clouds   \n2662104  Ghent Sint Pieters  Oost-Vlaanderen           1.9  Broken clouds   \n...                     ...              ...           ...            ...   \n2792964      Geraardsbergen  Oost-Vlaanderen          19.7  Broken clouds   \n2792965      Geraardsbergen  Oost-Vlaanderen          19.7  Broken clouds   \n2792966                 NaN  Oost-Vlaanderen          19.7  Broken clouds   \n2792967                 NaN  Oost-Vlaanderen          19.7  Broken clouds   \n2792968                 NaN  Oost-Vlaanderen          19.7  Broken clouds   \n\n        speed anomaly_RS_E_InAirTemp_PC1  anomaly_RS_T_OilTemp_PC1  \\\n2662100     0                         No                        No   \n2662101     5                         No                        No   \n2662102     0                         No                        No   \n2662103     0                         No                        No   \n2662104     0                         No                        No   \n...       ...                        ...                       ...   \n2792964    21                         No                        No   \n2792965    22                         No                        No   \n2792966    16                         No                        No   \n2792967     0                         No                        No   \n2792968     0                         No                        No   \n\n        anomaly_RS_E_OilPress_PC1  anomaly_RS_E_RPM_PC1  \\\n2662100                        No                    No   \n2662101                        No                    No   \n2662102                        No                    No   \n2662103                        No                    No   \n2662104                        No                    No   \n...                           ...                   ...   \n2792964                        No                    No   \n2792965                        No                    No   \n2792966                        No                    No   \n2792967                        No                    No   \n2792968                        No                    No   \n\n        anomaly_RS_E_WatTemp_PC1  \n2662100                       No  \n2662101                       No  \n2662102                       No  \n2662103                       No  \n2662104                       No  \n...                          ...  \n2792964                       No  \n2792965                       No  \n2792966                       No  \n2792967                       No  \n2792968                       No  \n\n[130869 rows x 24 columns]",
      "text/html": "<div>\n<style scoped>\n    .dataframe tbody tr th:only-of-type {\n        vertical-align: middle;\n    }\n\n    .dataframe tbody tr th {\n        vertical-align: top;\n    }\n\n    .dataframe thead th {\n        text-align: right;\n    }\n</style>\n<table border=\"1\" class=\"dataframe\">\n  <thead>\n    <tr style=\"text-align: right;\">\n      <th></th>\n      <th>mapped_veh_id</th>\n      <th>timestamps_UTC</th>\n      <th>lat</th>\n      <th>lon</th>\n      <th>RS_E_InAirTemp_PC1</th>\n      <th>RS_E_InAirTemp_PC2</th>\n      <th>RS_E_OilPress_PC1</th>\n      <th>RS_E_OilPress_PC2</th>\n      <th>RS_E_RPM_PC1</th>\n      <th>RS_E_RPM_PC2</th>\n      <th>...</th>\n      <th>station_name</th>\n      <th>province_name</th>\n      <th>outside_temp</th>\n      <th>weather</th>\n      <th>speed</th>\n      <th>anomaly_RS_E_InAirTemp_PC1</th>\n      <th>anomaly_RS_T_OilTemp_PC1</th>\n      <th>anomaly_RS_E_OilPress_PC1</th>\n      <th>anomaly_RS_E_RPM_PC1</th>\n      <th>anomaly_RS_E_WatTemp_PC1</th>\n    </tr>\n  </thead>\n  <tbody>\n    <tr>\n      <th>2662100</th>\n      <td>182.0</td>\n      <td>2023-01-23 08:24:04</td>\n      <td>51.035656</td>\n      <td>3.710717</td>\n      <td>16</td>\n      <td>9</td>\n      <td>207.0</td>\n      <td>224.0</td>\n      <td>806.0</td>\n      <td>799.0</td>\n      <td>...</td>\n      <td>Ghent Sint Pieters</td>\n      <td>Oost-Vlaanderen</td>\n      <td>1.7</td>\n      <td>Broken clouds</td>\n      <td>0</td>\n      <td>No</td>\n      <td>No</td>\n      <td>No</td>\n      <td>No</td>\n      <td>No</td>\n    </tr>\n    <tr>\n      <th>2662101</th>\n      <td>182.0</td>\n      <td>2023-01-23 08:24:56</td>\n      <td>51.035410</td>\n      <td>3.711797</td>\n      <td>16</td>\n      <td>8</td>\n      <td>210.0</td>\n      <td>224.0</td>\n      <td>797.0</td>\n      <td>799.0</td>\n      <td>...</td>\n      <td>Ghent Sint Pieters</td>\n      <td>Oost-Vlaanderen</td>\n      <td>1.7</td>\n      <td>Broken clouds</td>\n      <td>5</td>\n      <td>No</td>\n      <td>No</td>\n      <td>No</td>\n      <td>No</td>\n      <td>No</td>\n    </tr>\n    <tr>\n      <th>2662102</th>\n      <td>182.0</td>\n      <td>2023-01-23 08:25:57</td>\n      <td>51.035407</td>\n      <td>3.711814</td>\n      <td>17</td>\n      <td>8</td>\n      <td>210.0</td>\n      <td>224.0</td>\n      <td>798.0</td>\n      <td>798.0</td>\n      <td>...</td>\n      <td>Ghent Sint Pieters</td>\n      <td>Oost-Vlaanderen</td>\n      <td>1.7</td>\n      <td>Broken clouds</td>\n      <td>0</td>\n      <td>No</td>\n      <td>No</td>\n      <td>No</td>\n      <td>No</td>\n      <td>No</td>\n    </tr>\n    <tr>\n      <th>2662103</th>\n      <td>182.0</td>\n      <td>2023-01-23 08:30:00</td>\n      <td>51.035400</td>\n      <td>3.711835</td>\n      <td>17</td>\n      <td>7</td>\n      <td>217.0</td>\n      <td>227.0</td>\n      <td>802.0</td>\n      <td>799.0</td>\n      <td>...</td>\n      <td>Ghent Sint Pieters</td>\n      <td>Oost-Vlaanderen</td>\n      <td>1.7</td>\n      <td>Broken clouds</td>\n      <td>0</td>\n      <td>No</td>\n      <td>No</td>\n      <td>No</td>\n      <td>No</td>\n      <td>No</td>\n    </tr>\n    <tr>\n      <th>2662104</th>\n      <td>182.0</td>\n      <td>2023-01-23 08:31:00</td>\n      <td>51.035399</td>\n      <td>3.711808</td>\n      <td>16</td>\n      <td>7</td>\n      <td>220.0</td>\n      <td>231.0</td>\n      <td>801.0</td>\n      <td>802.0</td>\n      <td>...</td>\n      <td>Ghent Sint Pieters</td>\n      <td>Oost-Vlaanderen</td>\n      <td>1.9</td>\n      <td>Broken clouds</td>\n      <td>0</td>\n      <td>No</td>\n      <td>No</td>\n      <td>No</td>\n      <td>No</td>\n      <td>No</td>\n    </tr>\n    <tr>\n      <th>...</th>\n      <td>...</td>\n      <td>...</td>\n      <td>...</td>\n      <td>...</td>\n      <td>...</td>\n      <td>...</td>\n      <td>...</td>\n      <td>...</td>\n      <td>...</td>\n      <td>...</td>\n      <td>...</td>\n      <td>...</td>\n      <td>...</td>\n      <td>...</td>\n      <td>...</td>\n      <td>...</td>\n      <td>...</td>\n      <td>...</td>\n      <td>...</td>\n      <td>...</td>\n      <td>...</td>\n    </tr>\n    <tr>\n      <th>2792964</th>\n      <td>182.0</td>\n      <td>2023-09-13 16:24:15</td>\n      <td>50.768640</td>\n      <td>3.870845</td>\n      <td>31</td>\n      <td>36</td>\n      <td>179.0</td>\n      <td>179.0</td>\n      <td>803.0</td>\n      <td>801.0</td>\n      <td>...</td>\n      <td>Geraardsbergen</td>\n      <td>Oost-Vlaanderen</td>\n      <td>19.7</td>\n      <td>Broken clouds</td>\n      <td>21</td>\n      <td>No</td>\n      <td>No</td>\n      <td>No</td>\n      <td>No</td>\n      <td>No</td>\n    </tr>\n    <tr>\n      <th>2792965</th>\n      <td>182.0</td>\n      <td>2023-09-13 16:25:16</td>\n      <td>50.771994</td>\n      <td>3.872430</td>\n      <td>33</td>\n      <td>35</td>\n      <td>179.0</td>\n      <td>175.0</td>\n      <td>799.0</td>\n      <td>800.0</td>\n      <td>...</td>\n      <td>Geraardsbergen</td>\n      <td>Oost-Vlaanderen</td>\n      <td>19.7</td>\n      <td>Broken clouds</td>\n      <td>22</td>\n      <td>No</td>\n      <td>No</td>\n      <td>No</td>\n      <td>No</td>\n      <td>No</td>\n    </tr>\n    <tr>\n      <th>2792966</th>\n      <td>182.0</td>\n      <td>2023-09-13 16:26:16</td>\n      <td>50.774384</td>\n      <td>3.872867</td>\n      <td>33</td>\n      <td>35</td>\n      <td>179.0</td>\n      <td>179.0</td>\n      <td>799.0</td>\n      <td>799.0</td>\n      <td>...</td>\n      <td>NaN</td>\n      <td>Oost-Vlaanderen</td>\n      <td>19.7</td>\n      <td>Broken clouds</td>\n      <td>16</td>\n      <td>No</td>\n      <td>No</td>\n      <td>No</td>\n      <td>No</td>\n      <td>No</td>\n    </tr>\n    <tr>\n      <th>2792967</th>\n      <td>182.0</td>\n      <td>2023-09-13 16:26:37</td>\n      <td>50.774389</td>\n      <td>3.872878</td>\n      <td>35</td>\n      <td>35</td>\n      <td>17.0</td>\n      <td>51.0</td>\n      <td>142.0</td>\n      <td>142.0</td>\n      <td>...</td>\n      <td>NaN</td>\n      <td>Oost-Vlaanderen</td>\n      <td>19.7</td>\n      <td>Broken clouds</td>\n      <td>0</td>\n      <td>No</td>\n      <td>No</td>\n      <td>No</td>\n      <td>No</td>\n      <td>No</td>\n    </tr>\n    <tr>\n      <th>2792968</th>\n      <td>182.0</td>\n      <td>2023-09-13 16:27:16</td>\n      <td>50.774376</td>\n      <td>3.872856</td>\n      <td>40</td>\n      <td>42</td>\n      <td>3.0</td>\n      <td>3.0</td>\n      <td>0.0</td>\n      <td>0.0</td>\n      <td>...</td>\n      <td>NaN</td>\n      <td>Oost-Vlaanderen</td>\n      <td>19.7</td>\n      <td>Broken clouds</td>\n      <td>0</td>\n      <td>No</td>\n      <td>No</td>\n      <td>No</td>\n      <td>No</td>\n      <td>No</td>\n    </tr>\n  </tbody>\n</table>\n<p>130869 rows × 24 columns</p>\n</div>"
     },
     "execution_count": 13,
     "metadata": {},
     "output_type": "execute_result"
    }
   ],
   "source": [
    "anomalies_df[anomalies_df['mapped_veh_id']==182]"
   ],
   "metadata": {
    "collapsed": false
   }
  },
  {
   "cell_type": "code",
   "execution_count": 26,
   "outputs": [
    {
     "data": {
      "text/plain": "0.35511925899955893"
     },
     "execution_count": 26,
     "metadata": {},
     "output_type": "execute_result"
    }
   ],
   "source": [
    "(len(forecast[forecast['anomaly'] == 'Yes'])/len(forecast))*100"
   ],
   "metadata": {
    "collapsed": false
   }
  },
  {
   "cell_type": "code",
   "execution_count": 24,
   "outputs": [],
   "source": [
    "from sklearn.ensemble import IsolationForest\n",
    "import matplotlib.pyplot as plt"
   ],
   "metadata": {
    "collapsed": false
   }
  },
  {
   "cell_type": "code",
   "execution_count": 25,
   "outputs": [],
   "source": [
    "cols = [['RS_E_InAirTemp_PC1', 'outside_temp'],['RS_E_OilPress_PC1','RS_E_RPM_PC1'], ['RS_E_WatTemp_PC1','RS_T_OilTemp_PC1']]"
   ],
   "metadata": {
    "collapsed": false
   }
  },
  {
   "cell_type": "code",
   "execution_count": 26,
   "outputs": [
    {
     "name": "stdout",
     "output_type": "stream",
     "text": [
      "181.0\n",
      "143.0\n",
      "183.0\n",
      "177.0\n",
      "121.0\n",
      "136.0\n",
      "172.0\n",
      "180.0\n",
      "151.0\n",
      "128.0\n",
      "182.0\n",
      "194.0\n",
      "134.0\n",
      "140.0\n",
      "161.0\n",
      "142.0\n",
      "166.0\n",
      "176.0\n",
      "178.0\n",
      "145.0\n",
      "125.0\n",
      "152.0\n",
      "154.0\n",
      "109.0\n",
      "146.0\n",
      "170.0\n",
      "106.0\n",
      "188.0\n",
      "157.0\n",
      "103.0\n",
      "171.0\n",
      "138.0\n",
      "137.0\n",
      "112.0\n",
      "179.0\n",
      "190.0\n",
      "122.0\n",
      "102.0\n",
      "141.0\n",
      "189.0\n",
      "173.0\n",
      "116.0\n",
      "114.0\n",
      "159.0\n",
      "153.0\n",
      "149.0\n",
      "111.0\n",
      "150.0\n",
      "184.0\n",
      "126.0\n",
      "135.0\n",
      "192.0\n",
      "160.0\n",
      "175.0\n",
      "119.0\n",
      "164.0\n",
      "186.0\n",
      "174.0\n",
      "187.0\n",
      "167.0\n",
      "108.0\n",
      "133.0\n",
      "168.0\n",
      "110.0\n",
      "191.0\n",
      "124.0\n",
      "130.0\n",
      "185.0\n",
      "105.0\n",
      "120.0\n",
      "158.0\n",
      "197.0\n",
      "162.0\n",
      "115.0\n",
      "104.0\n",
      "139.0\n",
      "169.0\n",
      "155.0\n",
      "165.0\n",
      "147.0\n",
      "156.0\n",
      "117.0\n",
      "113.0\n",
      "144.0\n",
      "129.0\n",
      "107.0\n",
      "123.0\n",
      "163.0\n",
      "127.0\n",
      "148.0\n",
      "131.0\n",
      "196.0\n"
     ]
    }
   ],
   "source": [
    "anomalies_df = pd.DataFrame()\n",
    "for veh_id in df['mapped_veh_id'].unique():\n",
    "    print(veh_id)\n",
    "    veh_df = pd.DataFrame(df[df['mapped_veh_id'] == veh_id])\n",
    "    for selected_column in cols:\n",
    "        X = veh_df[selected_column]\n",
    "        isolation_forest= IsolationForest(n_estimators=500, contamination=0.001, random_state=42)\n",
    "        pred = np.array(isolation_forest.fit_predict(X))\n",
    "        veh_df['anomaly_'+selected_column[0]] = pred\n",
    "        veh_df['anomaly_'+selected_column[1]] = pred\n",
    "    anomalies_df = pd.concat([anomalies_df, veh_df])\n"
   ],
   "metadata": {
    "collapsed": false
   }
  },
  {
   "cell_type": "code",
   "execution_count": 29,
   "outputs": [],
   "source": [
    "df = anomalies_df"
   ],
   "metadata": {
    "collapsed": false
   }
  },
  {
   "cell_type": "code",
   "execution_count": 30,
   "outputs": [],
   "source": [
    "cols = [['RS_E_InAirTemp_PC2', 'outside_temp'],['RS_E_OilPress_PC2','RS_E_RPM_PC2'], ['RS_E_WatTemp_PC2','RS_T_OilTemp_PC2']]"
   ],
   "metadata": {
    "collapsed": false
   }
  },
  {
   "cell_type": "code",
   "execution_count": 31,
   "outputs": [
    {
     "name": "stdout",
     "output_type": "stream",
     "text": [
      "181.0\n",
      "143.0\n",
      "183.0\n",
      "177.0\n",
      "121.0\n",
      "136.0\n",
      "172.0\n",
      "180.0\n",
      "151.0\n",
      "128.0\n",
      "182.0\n",
      "194.0\n",
      "134.0\n",
      "140.0\n",
      "161.0\n",
      "142.0\n",
      "166.0\n",
      "176.0\n",
      "178.0\n",
      "145.0\n",
      "125.0\n",
      "152.0\n",
      "154.0\n",
      "109.0\n",
      "146.0\n",
      "170.0\n",
      "106.0\n",
      "188.0\n",
      "157.0\n",
      "103.0\n",
      "171.0\n",
      "138.0\n",
      "137.0\n",
      "112.0\n",
      "179.0\n",
      "190.0\n",
      "122.0\n",
      "102.0\n",
      "141.0\n",
      "189.0\n",
      "173.0\n",
      "116.0\n",
      "114.0\n",
      "159.0\n",
      "153.0\n",
      "149.0\n",
      "111.0\n",
      "150.0\n",
      "184.0\n",
      "126.0\n",
      "135.0\n",
      "192.0\n",
      "160.0\n",
      "175.0\n",
      "119.0\n",
      "164.0\n",
      "186.0\n",
      "174.0\n",
      "187.0\n",
      "167.0\n",
      "108.0\n",
      "133.0\n",
      "168.0\n",
      "110.0\n",
      "191.0\n",
      "124.0\n",
      "130.0\n",
      "185.0\n",
      "105.0\n",
      "120.0\n",
      "158.0\n",
      "197.0\n",
      "162.0\n",
      "115.0\n",
      "104.0\n",
      "139.0\n",
      "169.0\n",
      "155.0\n",
      "165.0\n",
      "147.0\n",
      "156.0\n",
      "117.0\n",
      "113.0\n",
      "144.0\n",
      "129.0\n",
      "107.0\n",
      "123.0\n",
      "163.0\n",
      "127.0\n",
      "148.0\n",
      "131.0\n",
      "196.0\n"
     ]
    }
   ],
   "source": [
    "anomalies_df = pd.DataFrame()\n",
    "for veh_id in df['mapped_veh_id'].unique():\n",
    "    print(veh_id)\n",
    "    veh_df = pd.DataFrame(df[df['mapped_veh_id'] == veh_id])\n",
    "    for selected_column in cols:\n",
    "        X = veh_df[selected_column]\n",
    "        isolation_forest= IsolationForest(n_estimators=500, contamination=0.01, random_state=42)\n",
    "        pred = np.array(isolation_forest.fit_predict(X))\n",
    "        veh_df['anomaly_'+selected_column[0]] = pred\n",
    "        veh_df['anomaly_'+selected_column[1]] = pred\n",
    "    anomalies_df = pd.concat([anomalies_df, veh_df])\n"
   ],
   "metadata": {
    "collapsed": false
   }
  },
  {
   "cell_type": "code",
   "execution_count": 33,
   "outputs": [],
   "source": [
    "anomalies_df = anomalies_df.drop(columns=['anomaly_outside_temp'])"
   ],
   "metadata": {
    "collapsed": false
   }
  },
  {
   "cell_type": "code",
   "execution_count": 36,
   "outputs": [
    {
     "name": "stdout",
     "output_type": "stream",
     "text": [
      "anomaly_RS_E_InAirTemp_PC1\n",
      "anomaly_RS_E_OilPress_PC1\n",
      "anomaly_RS_E_RPM_PC1\n",
      "anomaly_RS_E_WatTemp_PC1\n",
      "anomaly_RS_T_OilTemp_PC1\n",
      "anomaly_RS_E_InAirTemp_PC2\n",
      "anomaly_RS_E_OilPress_PC2\n",
      "anomaly_RS_E_RPM_PC2\n",
      "anomaly_RS_E_WatTemp_PC2\n",
      "anomaly_RS_T_OilTemp_PC2\n"
     ]
    }
   ],
   "source": [
    "anomalies_df_bis = anomalies_df.copy()\n",
    "for col in anomalies_df.columns:\n",
    "    if 'anomaly_' in col:\n",
    "        print(col)\n",
    "        anomalies_df_bis[col] = anomalies_df.apply(lambda x: 'Yes' if (x[col] == -1 ) else 'No', axis=1)"
   ],
   "metadata": {
    "collapsed": false
   }
  },
  {
   "cell_type": "code",
   "execution_count": 2,
   "outputs": [
    {
     "ename": "NameError",
     "evalue": "name 'anomalies_df_bis' is not defined",
     "output_type": "error",
     "traceback": [
      "\u001B[1;31m---------------------------------------------------------------------------\u001B[0m",
      "\u001B[1;31mNameError\u001B[0m                                 Traceback (most recent call last)",
      "Cell \u001B[1;32mIn[2], line 1\u001B[0m\n\u001B[1;32m----> 1\u001B[0m \u001B[43manomalies_df_bis\u001B[49m\u001B[38;5;241m.\u001B[39mto_csv(\u001B[38;5;124m'\u001B[39m\u001B[38;5;124manomalies.csv\u001B[39m\u001B[38;5;124m'\u001B[39m, sep\u001B[38;5;241m=\u001B[39m\u001B[38;5;124m'\u001B[39m\u001B[38;5;124m;\u001B[39m\u001B[38;5;124m'\u001B[39m)\n",
      "\u001B[1;31mNameError\u001B[0m: name 'anomalies_df_bis' is not defined"
     ]
    }
   ],
   "source": [
    "anomalies_df_bis.to_csv('anomalies.csv', sep=';')"
   ],
   "metadata": {
    "collapsed": false
   }
  },
  {
   "cell_type": "code",
   "execution_count": 2,
   "outputs": [],
   "source": [
    "df = pd.read_csv('anomalies.csv', sep=';')"
   ],
   "metadata": {
    "collapsed": false
   }
  },
  {
   "cell_type": "code",
   "execution_count": 3,
   "outputs": [
    {
     "data": {
      "text/plain": "          Unnamed: 0  mapped_veh_id       timestamps_UTC        lat       lon  \\\n0                  0          181.0  2023-01-23 08:28:54  51.040004  3.692637   \n1                  1          181.0  2023-01-23 08:29:48  51.039857  3.693306   \n2                  2          181.0  2023-01-23 08:29:54  51.040017  3.692645   \n3                  3          181.0  2023-01-23 08:30:48  51.039853  3.693292   \n4                  4          181.0  2023-01-23 08:30:55  51.039999  3.692651   \n...              ...            ...                  ...        ...       ...   \n16645378    16645378          163.0  2023-06-13 12:31:36  50.467596  4.840690   \n16645379    16645379          163.0  2023-06-13 12:32:36  50.467975  4.840861   \n16645380    16645380          163.0  2023-06-13 12:33:36  50.468019  4.840877   \n16645381    16645381          163.0  2023-06-13 12:34:36  50.468060  4.840822   \n16645382    16645382          163.0  2023-06-13 12:35:36  50.468060  4.840842   \n\n          RS_E_InAirTemp_PC1  RS_E_InAirTemp_PC2  RS_E_OilPress_PC1  \\\n0                         13                  11              269.0   \n1                         13                  12              265.0   \n2                         13                  12              265.0   \n3                         13                  12              272.0   \n4                         13                  12              269.0   \n...                      ...                 ...                ...   \n16645378                  42                  40              220.0   \n16645379                  41                  40              220.0   \n16645380                  41                  40               62.0   \n16645381                  50                  48               10.0   \n16645382                  55                  53               10.0   \n\n          RS_E_OilPress_PC2  RS_E_RPM_PC1  ...  anomaly_RS_E_InAirTemp_PC1  \\\n0                     241.0         798.0  ...                          No   \n1                     238.0         801.0  ...                          No   \n2                     248.0         798.0  ...                          No   \n3                     241.0         811.0  ...                          No   \n4                     241.0         791.0  ...                          No   \n...                     ...           ...  ...                         ...   \n16645378              341.0         800.0  ...                          No   \n16645379              272.0         805.0  ...                          No   \n16645380              120.0         106.0  ...                          No   \n16645381               10.0           0.0  ...                          No   \n16645382               10.0           0.0  ...                          No   \n\n          anomaly_RS_T_OilTemp_PC1  anomaly_RS_E_OilPress_PC1  \\\n0                               No                         No   \n1                               No                         No   \n2                               No                         No   \n3                               No                         No   \n4                               No                         No   \n...                            ...                        ...   \n16645378                        No                         No   \n16645379                        No                         No   \n16645380                        No                         No   \n16645381                        No                         No   \n16645382                        No                         No   \n\n          anomaly_RS_E_RPM_PC1  anomaly_RS_E_WatTemp_PC1  \\\n0                           No                        No   \n1                           No                        No   \n2                           No                        No   \n3                           No                        No   \n4                           No                        No   \n...                        ...                       ...   \n16645378                    No                        No   \n16645379                    No                        No   \n16645380                    No                        No   \n16645381                    No                        No   \n16645382                    No                        No   \n\n         anomaly_RS_E_InAirTemp_PC2 anomaly_RS_T_OilTemp_PC2  \\\n0                                No                       No   \n1                                No                       No   \n2                                No                       No   \n3                                No                       No   \n4                                No                       No   \n...                             ...                      ...   \n16645378                         No                       No   \n16645379                         No                       No   \n16645380                         No                       No   \n16645381                         No                       No   \n16645382                         No                       No   \n\n          anomaly_RS_E_OilPress_PC2 anomaly_RS_E_RPM_PC2  \\\n0                                No                   No   \n1                                No                   No   \n2                                No                   No   \n3                                No                   No   \n4                                No                   No   \n...                             ...                  ...   \n16645378                         No                   No   \n16645379                         No                   No   \n16645380                         No                   No   \n16645381                         No                   No   \n16645382                         No                   No   \n\n          anomaly_RS_E_WatTemp_PC2  \n0                               No  \n1                               No  \n2                               No  \n3                               No  \n4                               No  \n...                            ...  \n16645378                        No  \n16645379                        No  \n16645380                        No  \n16645381                        No  \n16645382                        No  \n\n[946893 rows x 30 columns]",
      "text/html": "<div>\n<style scoped>\n    .dataframe tbody tr th:only-of-type {\n        vertical-align: middle;\n    }\n\n    .dataframe tbody tr th {\n        vertical-align: top;\n    }\n\n    .dataframe thead th {\n        text-align: right;\n    }\n</style>\n<table border=\"1\" class=\"dataframe\">\n  <thead>\n    <tr style=\"text-align: right;\">\n      <th></th>\n      <th>Unnamed: 0</th>\n      <th>mapped_veh_id</th>\n      <th>timestamps_UTC</th>\n      <th>lat</th>\n      <th>lon</th>\n      <th>RS_E_InAirTemp_PC1</th>\n      <th>RS_E_InAirTemp_PC2</th>\n      <th>RS_E_OilPress_PC1</th>\n      <th>RS_E_OilPress_PC2</th>\n      <th>RS_E_RPM_PC1</th>\n      <th>...</th>\n      <th>anomaly_RS_E_InAirTemp_PC1</th>\n      <th>anomaly_RS_T_OilTemp_PC1</th>\n      <th>anomaly_RS_E_OilPress_PC1</th>\n      <th>anomaly_RS_E_RPM_PC1</th>\n      <th>anomaly_RS_E_WatTemp_PC1</th>\n      <th>anomaly_RS_E_InAirTemp_PC2</th>\n      <th>anomaly_RS_T_OilTemp_PC2</th>\n      <th>anomaly_RS_E_OilPress_PC2</th>\n      <th>anomaly_RS_E_RPM_PC2</th>\n      <th>anomaly_RS_E_WatTemp_PC2</th>\n    </tr>\n  </thead>\n  <tbody>\n    <tr>\n      <th>0</th>\n      <td>0</td>\n      <td>181.0</td>\n      <td>2023-01-23 08:28:54</td>\n      <td>51.040004</td>\n      <td>3.692637</td>\n      <td>13</td>\n      <td>11</td>\n      <td>269.0</td>\n      <td>241.0</td>\n      <td>798.0</td>\n      <td>...</td>\n      <td>No</td>\n      <td>No</td>\n      <td>No</td>\n      <td>No</td>\n      <td>No</td>\n      <td>No</td>\n      <td>No</td>\n      <td>No</td>\n      <td>No</td>\n      <td>No</td>\n    </tr>\n    <tr>\n      <th>1</th>\n      <td>1</td>\n      <td>181.0</td>\n      <td>2023-01-23 08:29:48</td>\n      <td>51.039857</td>\n      <td>3.693306</td>\n      <td>13</td>\n      <td>12</td>\n      <td>265.0</td>\n      <td>238.0</td>\n      <td>801.0</td>\n      <td>...</td>\n      <td>No</td>\n      <td>No</td>\n      <td>No</td>\n      <td>No</td>\n      <td>No</td>\n      <td>No</td>\n      <td>No</td>\n      <td>No</td>\n      <td>No</td>\n      <td>No</td>\n    </tr>\n    <tr>\n      <th>2</th>\n      <td>2</td>\n      <td>181.0</td>\n      <td>2023-01-23 08:29:54</td>\n      <td>51.040017</td>\n      <td>3.692645</td>\n      <td>13</td>\n      <td>12</td>\n      <td>265.0</td>\n      <td>248.0</td>\n      <td>798.0</td>\n      <td>...</td>\n      <td>No</td>\n      <td>No</td>\n      <td>No</td>\n      <td>No</td>\n      <td>No</td>\n      <td>No</td>\n      <td>No</td>\n      <td>No</td>\n      <td>No</td>\n      <td>No</td>\n    </tr>\n    <tr>\n      <th>3</th>\n      <td>3</td>\n      <td>181.0</td>\n      <td>2023-01-23 08:30:48</td>\n      <td>51.039853</td>\n      <td>3.693292</td>\n      <td>13</td>\n      <td>12</td>\n      <td>272.0</td>\n      <td>241.0</td>\n      <td>811.0</td>\n      <td>...</td>\n      <td>No</td>\n      <td>No</td>\n      <td>No</td>\n      <td>No</td>\n      <td>No</td>\n      <td>No</td>\n      <td>No</td>\n      <td>No</td>\n      <td>No</td>\n      <td>No</td>\n    </tr>\n    <tr>\n      <th>4</th>\n      <td>4</td>\n      <td>181.0</td>\n      <td>2023-01-23 08:30:55</td>\n      <td>51.039999</td>\n      <td>3.692651</td>\n      <td>13</td>\n      <td>12</td>\n      <td>269.0</td>\n      <td>241.0</td>\n      <td>791.0</td>\n      <td>...</td>\n      <td>No</td>\n      <td>No</td>\n      <td>No</td>\n      <td>No</td>\n      <td>No</td>\n      <td>No</td>\n      <td>No</td>\n      <td>No</td>\n      <td>No</td>\n      <td>No</td>\n    </tr>\n    <tr>\n      <th>...</th>\n      <td>...</td>\n      <td>...</td>\n      <td>...</td>\n      <td>...</td>\n      <td>...</td>\n      <td>...</td>\n      <td>...</td>\n      <td>...</td>\n      <td>...</td>\n      <td>...</td>\n      <td>...</td>\n      <td>...</td>\n      <td>...</td>\n      <td>...</td>\n      <td>...</td>\n      <td>...</td>\n      <td>...</td>\n      <td>...</td>\n      <td>...</td>\n      <td>...</td>\n      <td>...</td>\n    </tr>\n    <tr>\n      <th>16645378</th>\n      <td>16645378</td>\n      <td>163.0</td>\n      <td>2023-06-13 12:31:36</td>\n      <td>50.467596</td>\n      <td>4.840690</td>\n      <td>42</td>\n      <td>40</td>\n      <td>220.0</td>\n      <td>341.0</td>\n      <td>800.0</td>\n      <td>...</td>\n      <td>No</td>\n      <td>No</td>\n      <td>No</td>\n      <td>No</td>\n      <td>No</td>\n      <td>No</td>\n      <td>No</td>\n      <td>No</td>\n      <td>No</td>\n      <td>No</td>\n    </tr>\n    <tr>\n      <th>16645379</th>\n      <td>16645379</td>\n      <td>163.0</td>\n      <td>2023-06-13 12:32:36</td>\n      <td>50.467975</td>\n      <td>4.840861</td>\n      <td>41</td>\n      <td>40</td>\n      <td>220.0</td>\n      <td>272.0</td>\n      <td>805.0</td>\n      <td>...</td>\n      <td>No</td>\n      <td>No</td>\n      <td>No</td>\n      <td>No</td>\n      <td>No</td>\n      <td>No</td>\n      <td>No</td>\n      <td>No</td>\n      <td>No</td>\n      <td>No</td>\n    </tr>\n    <tr>\n      <th>16645380</th>\n      <td>16645380</td>\n      <td>163.0</td>\n      <td>2023-06-13 12:33:36</td>\n      <td>50.468019</td>\n      <td>4.840877</td>\n      <td>41</td>\n      <td>40</td>\n      <td>62.0</td>\n      <td>120.0</td>\n      <td>106.0</td>\n      <td>...</td>\n      <td>No</td>\n      <td>No</td>\n      <td>No</td>\n      <td>No</td>\n      <td>No</td>\n      <td>No</td>\n      <td>No</td>\n      <td>No</td>\n      <td>No</td>\n      <td>No</td>\n    </tr>\n    <tr>\n      <th>16645381</th>\n      <td>16645381</td>\n      <td>163.0</td>\n      <td>2023-06-13 12:34:36</td>\n      <td>50.468060</td>\n      <td>4.840822</td>\n      <td>50</td>\n      <td>48</td>\n      <td>10.0</td>\n      <td>10.0</td>\n      <td>0.0</td>\n      <td>...</td>\n      <td>No</td>\n      <td>No</td>\n      <td>No</td>\n      <td>No</td>\n      <td>No</td>\n      <td>No</td>\n      <td>No</td>\n      <td>No</td>\n      <td>No</td>\n      <td>No</td>\n    </tr>\n    <tr>\n      <th>16645382</th>\n      <td>16645382</td>\n      <td>163.0</td>\n      <td>2023-06-13 12:35:36</td>\n      <td>50.468060</td>\n      <td>4.840842</td>\n      <td>55</td>\n      <td>53</td>\n      <td>10.0</td>\n      <td>10.0</td>\n      <td>0.0</td>\n      <td>...</td>\n      <td>No</td>\n      <td>No</td>\n      <td>No</td>\n      <td>No</td>\n      <td>No</td>\n      <td>No</td>\n      <td>No</td>\n      <td>No</td>\n      <td>No</td>\n      <td>No</td>\n    </tr>\n  </tbody>\n</table>\n<p>946893 rows × 30 columns</p>\n</div>"
     },
     "execution_count": 3,
     "metadata": {},
     "output_type": "execute_result"
    }
   ],
   "source": [
    "demo = df[(df['mapped_veh_id'] == 180) | (df['mapped_veh_id'] == 181) | (df['mapped_veh_id'] == 163) | (df['mapped_veh_id'] == 142)]\n",
    "demo"
   ],
   "metadata": {
    "collapsed": false
   }
  },
  {
   "cell_type": "code",
   "execution_count": 4,
   "outputs": [],
   "source": [
    "demo.to_csv('demo.csv', sep=';')"
   ],
   "metadata": {
    "collapsed": false
   }
  },
  {
   "cell_type": "code",
   "execution_count": 5,
   "outputs": [
    {
     "data": {
      "text/plain": "          Unnamed: 0  mapped_veh_id       timestamps_UTC        lat       lon  \\\n21290          21290          181.0  2023-02-02 22:54:21  51.015642  3.775396   \n21291          21291          181.0  2023-02-02 22:54:24  51.015391  3.775883   \n21292          21292          181.0  2023-02-02 22:55:20  51.015637  3.775392   \n21293          21293          181.0  2023-02-02 22:55:24  51.015391  3.775935   \n21294          21294          181.0  2023-02-02 22:56:17  51.015446  3.775993   \n...              ...            ...                  ...        ...       ...   \n16630110    16630110          163.0  2023-05-26 21:49:13  51.189609  5.109427   \n16630111    16630111          163.0  2023-05-26 21:50:12  51.189614  5.109413   \n16630112    16630112          163.0  2023-05-26 21:51:12  51.189596  5.109437   \n16632725    16632725          163.0  2023-05-29 22:47:44  51.189595  5.109420   \n16632727    16632727          163.0  2023-05-29 22:48:44  51.189600  5.109415   \n\n          RS_E_InAirTemp_PC1  RS_E_InAirTemp_PC2  RS_E_OilPress_PC1  \\\n21290                     66                  53               20.0   \n21291                     66                  53               20.0   \n21292                     66                  55               20.0   \n21293                     66                  55               20.0   \n21294                     66                  56               20.0   \n...                      ...                 ...                ...   \n16630110                  68                  62               10.0   \n16630111                  69                  62               10.0   \n16630112                  69                  63               10.0   \n16632725                  66                  62               10.0   \n16632727                  66                  62               10.0   \n\n          RS_E_OilPress_PC2  RS_E_RPM_PC1  ...  anomaly_RS_E_InAirTemp_PC1  \\\n21290                  20.0           0.0  ...                         Yes   \n21291                  20.0           0.0  ...                         Yes   \n21292                  20.0           0.0  ...                         Yes   \n21293                  20.0           0.0  ...                         Yes   \n21294                  20.0           0.0  ...                         Yes   \n...                     ...           ...  ...                         ...   \n16630110               10.0           0.0  ...                         Yes   \n16630111               10.0           0.0  ...                         Yes   \n16630112               10.0           0.0  ...                         Yes   \n16632725               10.0           0.0  ...                         Yes   \n16632727               10.0           0.0  ...                         Yes   \n\n          anomaly_RS_T_OilTemp_PC1  anomaly_RS_E_OilPress_PC1  \\\n21290                           No                         No   \n21291                           No                         No   \n21292                           No                         No   \n21293                           No                         No   \n21294                           No                         No   \n...                            ...                        ...   \n16630110                        No                         No   \n16630111                        No                         No   \n16630112                        No                         No   \n16632725                        No                         No   \n16632727                        No                         No   \n\n          anomaly_RS_E_RPM_PC1  anomaly_RS_E_WatTemp_PC1  \\\n21290                       No                        No   \n21291                       No                        No   \n21292                       No                        No   \n21293                       No                        No   \n21294                       No                        No   \n...                        ...                       ...   \n16630110                    No                        No   \n16630111                    No                        No   \n16630112                    No                        No   \n16632725                    No                        No   \n16632727                    No                        No   \n\n         anomaly_RS_E_InAirTemp_PC2 anomaly_RS_T_OilTemp_PC2  \\\n21290                            No                       No   \n21291                            No                       No   \n21292                            No                       No   \n21293                            No                       No   \n21294                            No                       No   \n...                             ...                      ...   \n16630110                         No                       No   \n16630111                         No                       No   \n16630112                         No                       No   \n16632725                         No                       No   \n16632727                         No                       No   \n\n          anomaly_RS_E_OilPress_PC2 anomaly_RS_E_RPM_PC2  \\\n21290                            No                   No   \n21291                            No                   No   \n21292                            No                   No   \n21293                            No                   No   \n21294                            No                   No   \n...                             ...                  ...   \n16630110                         No                   No   \n16630111                         No                   No   \n16630112                         No                   No   \n16632725                         No                   No   \n16632727                         No                   No   \n\n          anomaly_RS_E_WatTemp_PC2  \n21290                           No  \n21291                           No  \n21292                           No  \n21293                           No  \n21294                           No  \n...                            ...  \n16630110                        No  \n16630111                        No  \n16630112                        No  \n16632725                        No  \n16632727                        No  \n\n[328 rows x 30 columns]",
      "text/html": "<div>\n<style scoped>\n    .dataframe tbody tr th:only-of-type {\n        vertical-align: middle;\n    }\n\n    .dataframe tbody tr th {\n        vertical-align: top;\n    }\n\n    .dataframe thead th {\n        text-align: right;\n    }\n</style>\n<table border=\"1\" class=\"dataframe\">\n  <thead>\n    <tr style=\"text-align: right;\">\n      <th></th>\n      <th>Unnamed: 0</th>\n      <th>mapped_veh_id</th>\n      <th>timestamps_UTC</th>\n      <th>lat</th>\n      <th>lon</th>\n      <th>RS_E_InAirTemp_PC1</th>\n      <th>RS_E_InAirTemp_PC2</th>\n      <th>RS_E_OilPress_PC1</th>\n      <th>RS_E_OilPress_PC2</th>\n      <th>RS_E_RPM_PC1</th>\n      <th>...</th>\n      <th>anomaly_RS_E_InAirTemp_PC1</th>\n      <th>anomaly_RS_T_OilTemp_PC1</th>\n      <th>anomaly_RS_E_OilPress_PC1</th>\n      <th>anomaly_RS_E_RPM_PC1</th>\n      <th>anomaly_RS_E_WatTemp_PC1</th>\n      <th>anomaly_RS_E_InAirTemp_PC2</th>\n      <th>anomaly_RS_T_OilTemp_PC2</th>\n      <th>anomaly_RS_E_OilPress_PC2</th>\n      <th>anomaly_RS_E_RPM_PC2</th>\n      <th>anomaly_RS_E_WatTemp_PC2</th>\n    </tr>\n  </thead>\n  <tbody>\n    <tr>\n      <th>21290</th>\n      <td>21290</td>\n      <td>181.0</td>\n      <td>2023-02-02 22:54:21</td>\n      <td>51.015642</td>\n      <td>3.775396</td>\n      <td>66</td>\n      <td>53</td>\n      <td>20.0</td>\n      <td>20.0</td>\n      <td>0.0</td>\n      <td>...</td>\n      <td>Yes</td>\n      <td>No</td>\n      <td>No</td>\n      <td>No</td>\n      <td>No</td>\n      <td>No</td>\n      <td>No</td>\n      <td>No</td>\n      <td>No</td>\n      <td>No</td>\n    </tr>\n    <tr>\n      <th>21291</th>\n      <td>21291</td>\n      <td>181.0</td>\n      <td>2023-02-02 22:54:24</td>\n      <td>51.015391</td>\n      <td>3.775883</td>\n      <td>66</td>\n      <td>53</td>\n      <td>20.0</td>\n      <td>20.0</td>\n      <td>0.0</td>\n      <td>...</td>\n      <td>Yes</td>\n      <td>No</td>\n      <td>No</td>\n      <td>No</td>\n      <td>No</td>\n      <td>No</td>\n      <td>No</td>\n      <td>No</td>\n      <td>No</td>\n      <td>No</td>\n    </tr>\n    <tr>\n      <th>21292</th>\n      <td>21292</td>\n      <td>181.0</td>\n      <td>2023-02-02 22:55:20</td>\n      <td>51.015637</td>\n      <td>3.775392</td>\n      <td>66</td>\n      <td>55</td>\n      <td>20.0</td>\n      <td>20.0</td>\n      <td>0.0</td>\n      <td>...</td>\n      <td>Yes</td>\n      <td>No</td>\n      <td>No</td>\n      <td>No</td>\n      <td>No</td>\n      <td>No</td>\n      <td>No</td>\n      <td>No</td>\n      <td>No</td>\n      <td>No</td>\n    </tr>\n    <tr>\n      <th>21293</th>\n      <td>21293</td>\n      <td>181.0</td>\n      <td>2023-02-02 22:55:24</td>\n      <td>51.015391</td>\n      <td>3.775935</td>\n      <td>66</td>\n      <td>55</td>\n      <td>20.0</td>\n      <td>20.0</td>\n      <td>0.0</td>\n      <td>...</td>\n      <td>Yes</td>\n      <td>No</td>\n      <td>No</td>\n      <td>No</td>\n      <td>No</td>\n      <td>No</td>\n      <td>No</td>\n      <td>No</td>\n      <td>No</td>\n      <td>No</td>\n    </tr>\n    <tr>\n      <th>21294</th>\n      <td>21294</td>\n      <td>181.0</td>\n      <td>2023-02-02 22:56:17</td>\n      <td>51.015446</td>\n      <td>3.775993</td>\n      <td>66</td>\n      <td>56</td>\n      <td>20.0</td>\n      <td>20.0</td>\n      <td>0.0</td>\n      <td>...</td>\n      <td>Yes</td>\n      <td>No</td>\n      <td>No</td>\n      <td>No</td>\n      <td>No</td>\n      <td>No</td>\n      <td>No</td>\n      <td>No</td>\n      <td>No</td>\n      <td>No</td>\n    </tr>\n    <tr>\n      <th>...</th>\n      <td>...</td>\n      <td>...</td>\n      <td>...</td>\n      <td>...</td>\n      <td>...</td>\n      <td>...</td>\n      <td>...</td>\n      <td>...</td>\n      <td>...</td>\n      <td>...</td>\n      <td>...</td>\n      <td>...</td>\n      <td>...</td>\n      <td>...</td>\n      <td>...</td>\n      <td>...</td>\n      <td>...</td>\n      <td>...</td>\n      <td>...</td>\n      <td>...</td>\n      <td>...</td>\n    </tr>\n    <tr>\n      <th>16630110</th>\n      <td>16630110</td>\n      <td>163.0</td>\n      <td>2023-05-26 21:49:13</td>\n      <td>51.189609</td>\n      <td>5.109427</td>\n      <td>68</td>\n      <td>62</td>\n      <td>10.0</td>\n      <td>10.0</td>\n      <td>0.0</td>\n      <td>...</td>\n      <td>Yes</td>\n      <td>No</td>\n      <td>No</td>\n      <td>No</td>\n      <td>No</td>\n      <td>No</td>\n      <td>No</td>\n      <td>No</td>\n      <td>No</td>\n      <td>No</td>\n    </tr>\n    <tr>\n      <th>16630111</th>\n      <td>16630111</td>\n      <td>163.0</td>\n      <td>2023-05-26 21:50:12</td>\n      <td>51.189614</td>\n      <td>5.109413</td>\n      <td>69</td>\n      <td>62</td>\n      <td>10.0</td>\n      <td>10.0</td>\n      <td>0.0</td>\n      <td>...</td>\n      <td>Yes</td>\n      <td>No</td>\n      <td>No</td>\n      <td>No</td>\n      <td>No</td>\n      <td>No</td>\n      <td>No</td>\n      <td>No</td>\n      <td>No</td>\n      <td>No</td>\n    </tr>\n    <tr>\n      <th>16630112</th>\n      <td>16630112</td>\n      <td>163.0</td>\n      <td>2023-05-26 21:51:12</td>\n      <td>51.189596</td>\n      <td>5.109437</td>\n      <td>69</td>\n      <td>63</td>\n      <td>10.0</td>\n      <td>10.0</td>\n      <td>0.0</td>\n      <td>...</td>\n      <td>Yes</td>\n      <td>No</td>\n      <td>No</td>\n      <td>No</td>\n      <td>No</td>\n      <td>No</td>\n      <td>No</td>\n      <td>No</td>\n      <td>No</td>\n      <td>No</td>\n    </tr>\n    <tr>\n      <th>16632725</th>\n      <td>16632725</td>\n      <td>163.0</td>\n      <td>2023-05-29 22:47:44</td>\n      <td>51.189595</td>\n      <td>5.109420</td>\n      <td>66</td>\n      <td>62</td>\n      <td>10.0</td>\n      <td>10.0</td>\n      <td>0.0</td>\n      <td>...</td>\n      <td>Yes</td>\n      <td>No</td>\n      <td>No</td>\n      <td>No</td>\n      <td>No</td>\n      <td>No</td>\n      <td>No</td>\n      <td>No</td>\n      <td>No</td>\n      <td>No</td>\n    </tr>\n    <tr>\n      <th>16632727</th>\n      <td>16632727</td>\n      <td>163.0</td>\n      <td>2023-05-29 22:48:44</td>\n      <td>51.189600</td>\n      <td>5.109415</td>\n      <td>66</td>\n      <td>62</td>\n      <td>10.0</td>\n      <td>10.0</td>\n      <td>0.0</td>\n      <td>...</td>\n      <td>Yes</td>\n      <td>No</td>\n      <td>No</td>\n      <td>No</td>\n      <td>No</td>\n      <td>No</td>\n      <td>No</td>\n      <td>No</td>\n      <td>No</td>\n      <td>No</td>\n    </tr>\n  </tbody>\n</table>\n<p>328 rows × 30 columns</p>\n</div>"
     },
     "execution_count": 5,
     "metadata": {},
     "output_type": "execute_result"
    }
   ],
   "source": [
    "demo[(demo['RS_E_InAirTemp_PC1'] > 65) & (demo['anomaly_RS_E_InAirTemp_PC1'] == 'Yes')]"
   ],
   "metadata": {
    "collapsed": false
   }
  }
 ],
 "metadata": {
  "language_info": {
   "name": "python"
  }
 },
 "nbformat": 4,
 "nbformat_minor": 2
}
